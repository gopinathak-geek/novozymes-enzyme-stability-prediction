{
  "nbformat": 4,
  "nbformat_minor": 0,
  "metadata": {
    "colab": {
      "provenance": [],
      "authorship_tag": "ABX9TyMKA+bzukPBdLvLRZ9fD+tH",
      "include_colab_link": true
    },
    "kernelspec": {
      "name": "python3",
      "display_name": "Python 3"
    },
    "language_info": {
      "name": "python"
    }
  },
  "cells": [
    {
      "cell_type": "markdown",
      "metadata": {
        "id": "view-in-github",
        "colab_type": "text"
      },
      "source": [
        "<a href=\"https://colab.research.google.com/github/gopinathak-geek/novozymes-enzyme-stability-prediction/blob/main/sequence_to_structure.ipynb\" target=\"_parent\"><img src=\"https://colab.research.google.com/assets/colab-badge.svg\" alt=\"Open In Colab\"/></a>"
      ]
    },
    {
      "cell_type": "code",
      "execution_count": 131,
      "metadata": {
        "id": "eu69z9XnU90S"
      },
      "outputs": [],
      "source": [
        "import numpy as np\n",
        "from PIL import Image"
      ]
    },
    {
      "cell_type": "markdown",
      "source": [
        "\n",
        "```\n",
        "def proteinSequenceToAmioAcidMolecularWeightWithPhAndLabel(data):\n",
        "  amionAcidSequence = []\n",
        "  img = []\n",
        "  label = []\n",
        "  for index, row in data.iterrows():\n",
        "    ph = row['pH']\n",
        "    tm = row['tm']\n",
        "    molecularWeightOfAminoAcidInSequence = []\n",
        "    pHofProteinSequence = []\n",
        "    for aminoacid in (row['protein_sequence']):\n",
        "      molecularWeight = getMolecularWeight(aminoacid)\n",
        "      molecularWeightOfAminoAcidInSequence.append(molecularWeight/110)\n",
        "      pHofProteinSequence.append(ph)\n",
        "    a = np.array([molecularWeightOfAminoAcidInSequence,pHofProteinSequence])\n",
        "    a = a[None, :]\n",
        "    img.append(a)\n",
        "    label.append(tm)\n",
        "  return [img, label]\n",
        "\n",
        "\n",
        "\n",
        "  from PIL import Image\n",
        "\n",
        "image = Image.fromarray(data)\n",
        "\n",
        "display(image)\n",
        "  ```\n",
        "\n"
      ],
      "metadata": {
        "id": "C42cbOvenThk"
      }
    },
    {
      "cell_type": "code",
      "source": [
        "def getDefaultAminoAcidStructure():\n",
        "  '''\n",
        "    H H O \n",
        "    | | ||\n",
        "  H-N-C-C\n",
        "    | | |\n",
        "    H R O\n",
        "  '''\n",
        "  defaultStructure = np.zeros((29, 40, 3), dtype=np.uint8)\n",
        "  \n",
        "  #Alpha carbon\n",
        "  for x in range(11, 18):\n",
        "    for y in range(22, 29):\n",
        "      defaultStructure[x, y] = [255, 255, 255]\n",
        "  \n",
        "  #Alpha carbon bonds\n",
        "  defaultStructure[14, 20] = [255, 255, 255]\n",
        "  defaultStructure[14, 21] = [255, 255, 255]\n",
        "  defaultStructure[14, 29] = [255, 255, 255]\n",
        "  defaultStructure[14, 30] = [255, 255, 255]\n",
        "  defaultStructure[10, 25] = [255, 255, 255]\n",
        "  defaultStructure[9, 25] = [255, 255, 255]\n",
        "  defaultStructure[18, 25] = [255, 255, 255]\n",
        "  defaultStructure[19, 25] = [255, 255, 255]\n",
        "  \n",
        "  #Nitrogen\n",
        "  for x in range(11, 18):\n",
        "    for y in range(11, 18):\n",
        "      defaultStructure[x, y] = [0, 0, 255]\n",
        "  \n",
        "  #Nitrogen bonds\n",
        "  defaultStructure[14, 9] = [0, 0, 255]\n",
        "  defaultStructure[14, 10] = [0, 0, 255]\n",
        "  defaultStructure[14, 18] = [0, 0, 255]\n",
        "  defaultStructure[14, 19] = [0, 0, 255]\n",
        "  defaultStructure[10, 14] = [0, 0, 255]\n",
        "  defaultStructure[9, 14] = [0, 0, 255]\n",
        "  defaultStructure[18, 14] = [0, 0, 255]\n",
        "  defaultStructure[19, 14] = [0, 0, 255]\n",
        "  \n",
        "  #carboxyl carbon\n",
        "  for x in range(11, 18):\n",
        "    for y in range(33, 40):\n",
        "      defaultStructure[x, y] = [255, 255, 255]\n",
        "  \n",
        "  #carboxyl carbon bonds\n",
        "  defaultStructure[14, 31] = [255, 255, 255]\n",
        "  defaultStructure[14, 32] = [255, 255, 255]\n",
        "  defaultStructure[9, 35] = [255, 255, 255]\n",
        "  defaultStructure[10, 35] = [255, 255, 255]\n",
        "  defaultStructure[9, 37] = [255, 255, 255]\n",
        "  defaultStructure[10, 37] = [255, 255, 255]\n",
        "  defaultStructure[18, 36] = [255, 255, 255]\n",
        "  defaultStructure[19, 36] = [255, 255, 255]\n",
        "\n",
        "  #Hydrogen alpha\n",
        "  for x in range(0, 7):\n",
        "    for y in range(22, 29):\n",
        "      defaultStructure[x, y] = [128, 128, 128]\n",
        "\n",
        "  # Hydrogen alpha bond\n",
        "  defaultStructure[7, 25] = [128, 128, 128]\n",
        "  defaultStructure[8, 25] = [128, 128, 128]\n",
        "\n",
        "  #Hydrogen - Amino group\n",
        "  for x in range(0, 7):\n",
        "    for y in range(11, 18):\n",
        "      defaultStructure[x, y] = [128, 128, 128]\n",
        "\n",
        "  # Hydrogen - Amino group bond\n",
        "  defaultStructure[7, 14] = [128, 128, 128]\n",
        "  defaultStructure[8, 14] = [128, 128, 128]\n",
        "  \n",
        "  #Hydrogen 1 - Amino group\n",
        "  for x in range(11, 18):\n",
        "    for y in range(0, 7):\n",
        "      defaultStructure[x, y] = [128, 128, 128]\n",
        "\n",
        "  # Hydrogen 1- Amino group bond\n",
        "  defaultStructure[14, 7] = [128, 128, 128]\n",
        "  defaultStructure[14, 8] = [128, 128, 128]\n",
        "\n",
        "  #Hydrogen 2- Amino group\n",
        "  for x in range(22, 29):\n",
        "    for y in range(11, 18):\n",
        "      defaultStructure[x, y] = [128, 128, 128]\n",
        "  \n",
        "  # Hydrogen 2- Amino group bond\n",
        "  defaultStructure[20, 14] = [128, 128, 128]\n",
        "  defaultStructure[21, 14] = [128, 128, 128]\n",
        "\n",
        "  #carboxyl oxygen sharing\n",
        "  for x in range(0, 7):\n",
        "    for y in range(33, 40):\n",
        "      defaultStructure[x, y] = [255, 0, 0]\n",
        "  \n",
        "  #carboxyl oxygen sharing bond\n",
        "  defaultStructure[7, 35] = [255, 0, 0]\n",
        "  defaultStructure[8, 35] = [255, 0, 0]\n",
        "  defaultStructure[7, 37] = [255, 0, 0]\n",
        "  defaultStructure[8, 37] = [255, 0, 0]\n",
        "\n",
        "  #carboxyl oxygen \n",
        "  for x in range(22, 29):\n",
        "    for y in range(33, 40):\n",
        "      defaultStructure[x, y] = [255, 0, 0]\n",
        "  \n",
        "  #carboxyl oxygen bond\n",
        "  defaultStructure[20, 36] = [255, 0, 0]\n",
        "  defaultStructure[21, 36] = [255, 0, 0]\n",
        "  \n",
        "  return defaultStructure\n",
        "\n",
        "\n",
        "def getGlycine():\n",
        "  return getDefaultAminoAcidStructure()\n",
        "\n",
        "def aminoAcidToStructure(aminoAcid):\n",
        "  if aminoAcid == \"G\":\n",
        "    return getGlycine()\n",
        "  elif aminoAcid == \"A\":\n",
        "    pass\n",
        "\n",
        "def proteinSequenceToPrimaryStrcure():\n",
        "  proteinSequence = \"G\"\n",
        "  \n",
        "  for aminoAcid in proteinSequence:\n",
        "    a = aminoAcidToStructure(aminoAcid)\n",
        "    return a"
      ],
      "metadata": {
        "id": "huYnWgPVpDRy"
      },
      "execution_count": 216,
      "outputs": []
    },
    {
      "cell_type": "code",
      "source": [
        "a= proteinSequenceToPrimaryStrcure()\n",
        "image = Image.fromarray(a)\n",
        "display(image)\n"
      ],
      "metadata": {
        "colab": {
          "base_uri": "https://localhost:8080/",
          "height": 46
        },
        "id": "K7mEqsmqnVO5",
        "outputId": "0f0f87c7-330a-4277-ec6d-49e2c281c6de"
      },
      "execution_count": 217,
      "outputs": [
        {
          "output_type": "display_data",
          "data": {
            "text/plain": [
              "<PIL.Image.Image image mode=RGB size=40x29 at 0x7FF2F4B72BB0>"
            ],
            "image/png": "[encoded data removed]"
          },
          "metadata": {}
        }
      ]
    }
  ]
}