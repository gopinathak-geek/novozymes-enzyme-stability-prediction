{
 "cells": [
  {
   "cell_type": "markdown",
   "id": "09e60ed0",
   "metadata": {},
   "source": [
    "# Explore data analysis"
   ]
  },
  {
   "cell_type": "markdown",
   "id": "974d142f",
   "metadata": {},
   "source": [
    "### Import the neccesary libraries"
   ]
  },
  {
   "cell_type": "code",
   "execution_count": 27,
   "id": "34aad68c",
   "metadata": {},
   "outputs": [],
   "source": [
    "import pandas as pd"
   ]
  },
  {
   "cell_type": "markdown",
   "id": "a7f26446",
   "metadata": {},
   "source": [
    "### Define the path for the training and test data"
   ]
  },
  {
   "cell_type": "code",
   "execution_count": 28,
   "id": "1f6d4193",
   "metadata": {},
   "outputs": [],
   "source": [
    "train_csv = \"data/raw/train.csv\"\n",
    "train_updates_csv = \"data/raw/train_updates_20220929.csv\"\n",
    "test_csv = \"data/raw/test.csv\""
   ]
  },
  {
   "cell_type": "code",
   "execution_count": 29,
   "id": "28468c84",
   "metadata": {},
   "outputs": [],
   "source": [
    "train_df = pd.read_csv(train_csv)\n",
    "train_updates_df = pd.read_csv(train_updates_csv)\n",
    "test_df = pd.read_csv(test_csv)"
   ]
  },
  {
   "cell_type": "code",
   "execution_count": 30,
   "id": "aff9ad64",
   "metadata": {},
   "outputs": [],
   "source": [
    "# seq_id of the row to be deleted in the train file\n",
    "seq_ids_to_delete = train_updates_df[train_updates_df[\"pH\"].isnull()][\"seq_id\"].values\n",
    "\n",
    "# seq_id of the row to be replaced in the train file\n",
    "seq_ids_to_replace = train_updates_df[train_updates_df[\"pH\"].notnull()][\"seq_id\"].values\n",
    "\n",
    "#drop the train rows\n",
    "train_df.drop(train_df[train_df.seq_id.isin(seq_ids_to_delete)].index, inplace=True)\n",
    "\n",
    "#replace the train rows with train update row\n",
    "train_df.loc[train_df.seq_id.isin(seq_ids_to_replace), [\"pH\", \"tm\"]] = train_updates_df[train_updates_df.seq_id.isin(seq_ids_to_replace)][[\"pH\", \"tm\"]].values"
   ]
  },
  {
   "cell_type": "code",
   "execution_count": 31,
   "id": "18525021",
   "metadata": {},
   "outputs": [
    {
     "name": "stdout",
     "output_type": "stream",
     "text": [
      "<class 'pandas.core.frame.DataFrame'>\n",
      "Int64Index: 28981 entries, 0 to 31389\n",
      "Data columns (total 5 columns):\n",
      " #   Column            Non-Null Count  Dtype  \n",
      "---  ------            --------------  -----  \n",
      " 0   seq_id            28981 non-null  int64  \n",
      " 1   protein_sequence  28981 non-null  object \n",
      " 2   pH                28695 non-null  float64\n",
      " 3   data_source       28001 non-null  object \n",
      " 4   tm                28981 non-null  float64\n",
      "dtypes: float64(2), int64(1), object(2)\n",
      "memory usage: 1.3+ MB\n"
     ]
    }
   ],
   "source": [
    "train_df.info(verbose=True)"
   ]
  },
  {
   "cell_type": "code",
   "execution_count": 32,
   "id": "5896c678",
   "metadata": {},
   "outputs": [],
   "source": [
    "# some of the PH values are null so delete those rows\n",
    "null_seq_ids = train_df[train_df[\"pH\"].isnull()][\"seq_id\"].values\n",
    "train_df.drop(train_df[train_df.seq_id.isin(null_seq_ids)].index, inplace=True)"
   ]
  },
  {
   "cell_type": "code",
   "execution_count": 33,
   "id": "bbce51d4",
   "metadata": {},
   "outputs": [
    {
     "name": "stdout",
     "output_type": "stream",
     "text": [
      "<class 'pandas.core.frame.DataFrame'>\n",
      "Int64Index: 28695 entries, 0 to 31389\n",
      "Data columns (total 5 columns):\n",
      " #   Column            Non-Null Count  Dtype  \n",
      "---  ------            --------------  -----  \n",
      " 0   seq_id            28695 non-null  int64  \n",
      " 1   protein_sequence  28695 non-null  object \n",
      " 2   pH                28695 non-null  float64\n",
      " 3   data_source       27727 non-null  object \n",
      " 4   tm                28695 non-null  float64\n",
      "dtypes: float64(2), int64(1), object(2)\n",
      "memory usage: 1.3+ MB\n"
     ]
    }
   ],
   "source": [
    "train_df.info(verbose=True)"
   ]
  },
  {
   "cell_type": "code",
   "execution_count": 34,
   "id": "c2cef247",
   "metadata": {},
   "outputs": [
    {
     "data": {
      "text/html": [
       "<div>\n",
       "<style scoped>\n",
       "    .dataframe tbody tr th:only-of-type {\n",
       "        vertical-align: middle;\n",
       "    }\n",
       "\n",
       "    .dataframe tbody tr th {\n",
       "        vertical-align: top;\n",
       "    }\n",
       "\n",
       "    .dataframe thead th {\n",
       "        text-align: right;\n",
       "    }\n",
       "</style>\n",
       "<table border=\"1\" class=\"dataframe\">\n",
       "  <thead>\n",
       "    <tr style=\"text-align: right;\">\n",
       "      <th></th>\n",
       "      <th>count</th>\n",
       "      <th>mean</th>\n",
       "      <th>std</th>\n",
       "      <th>min</th>\n",
       "      <th>25%</th>\n",
       "      <th>50%</th>\n",
       "      <th>75%</th>\n",
       "      <th>max</th>\n",
       "    </tr>\n",
       "  </thead>\n",
       "  <tbody>\n",
       "    <tr>\n",
       "      <th>pH</th>\n",
       "      <td>28695.0</td>\n",
       "      <td>6.872467</td>\n",
       "      <td>0.793184</td>\n",
       "      <td>1.99</td>\n",
       "      <td>7.0</td>\n",
       "      <td>7.0</td>\n",
       "      <td>7.0</td>\n",
       "      <td>11.0</td>\n",
       "    </tr>\n",
       "    <tr>\n",
       "      <th>tm</th>\n",
       "      <td>28695.0</td>\n",
       "      <td>51.385604</td>\n",
       "      <td>12.076609</td>\n",
       "      <td>25.10</td>\n",
       "      <td>43.7</td>\n",
       "      <td>48.8</td>\n",
       "      <td>54.6</td>\n",
       "      <td>130.0</td>\n",
       "    </tr>\n",
       "  </tbody>\n",
       "</table>\n",
       "</div>"
      ],
      "text/plain": [
       "      count       mean        std    min   25%   50%   75%    max\n",
       "pH  28695.0   6.872467   0.793184   1.99   7.0   7.0   7.0   11.0\n",
       "tm  28695.0  51.385604  12.076609  25.10  43.7  48.8  54.6  130.0"
      ]
     },
     "execution_count": 34,
     "metadata": {},
     "output_type": "execute_result"
    }
   ],
   "source": [
    "train_df.describe()[['pH', 'tm']].transpose()"
   ]
  },
  {
   "cell_type": "code",
   "execution_count": 35,
   "id": "27194b2b",
   "metadata": {},
   "outputs": [],
   "source": [
    "train_df.to_csv(\"data/source/train.csv\", index=False)"
   ]
  },
  {
   "cell_type": "code",
   "execution_count": null,
   "id": "a1311898",
   "metadata": {},
   "outputs": [],
   "source": []
  }
 ],
 "metadata": {
  "kernelspec": {
   "display_name": "Python 3 (ipykernel)",
   "language": "python",
   "name": "python3"
  },
  "language_info": {
   "codemirror_mode": {
    "name": "ipython",
    "version": 3
   },
   "file_extension": ".py",
   "mimetype": "text/x-python",
   "name": "python",
   "nbconvert_exporter": "python",
   "pygments_lexer": "ipython3",
   "version": "3.9.12"
  }
 },
 "nbformat": 4,
 "nbformat_minor": 5
}
