{
  "cells": [
    {
      "cell_type": "markdown",
      "metadata": {
        "id": "view-in-github",
        "colab_type": "text"
      },
      "source": [
        "<a href=\"https://colab.research.google.com/github/gopinathak-geek/novozymes-enzyme-stability-prediction/blob/main/NovoModel.ipynb\" target=\"_parent\"><img src=\"https://colab.research.google.com/assets/colab-badge.svg\" alt=\"Open In Colab\"/></a>"
      ]
    },
    {
      "cell_type": "markdown",
      "source": [
        "Import the necessary libraries "
      ],
      "metadata": {
        "id": "ap_NRiVAF5NU"
      },
      "id": "ap_NRiVAF5NU"
    },
    {
      "cell_type": "code",
      "source": [
        "import numpy as np\n",
        "import pandas as pd\n",
        "import random\n",
        "from scipy import stats\n",
        "import torchvision.transforms as T\n",
        "import torch\n",
        "import torch.nn as nn\n",
        "import torch.nn.functional as F\n",
        "import torch.optim as optim\n",
        "from torch.utils.data import Dataset, DataLoader"
      ],
      "metadata": {
        "id": "4d77B_4K-WEa"
      },
      "id": "4d77B_4K-WEa",
      "execution_count": 220,
      "outputs": []
    },
    {
      "cell_type": "markdown",
      "source": [
        "Load the source data (CSV) files from Github"
      ],
      "metadata": {
        "id": "meW8JcrTHZJM"
      },
      "id": "meW8JcrTHZJM"
    },
    {
      "cell_type": "code",
      "source": [
        "train_csv = \"https://raw.githubusercontent.com/gopinathak-geek/novozymes-enzyme-stability-prediction/main/data/train.csv\"\n",
        "train_updates_csv = \"https://raw.githubusercontent.com/gopinathak-geek/novozymes-enzyme-stability-prediction/main/data/train_updates_20220929.csv\"\n",
        "test_csv = \"https://raw.githubusercontent.com/gopinathak-geek/novozymes-enzyme-stability-prediction/main/data/test.csv\""
      ],
      "metadata": {
        "id": "OsrA1NlwHXWv"
      },
      "id": "OsrA1NlwHXWv",
      "execution_count": 221,
      "outputs": []
    },
    {
      "cell_type": "markdown",
      "source": [
        "Read the Loaded CSV files"
      ],
      "metadata": {
        "id": "7CuHBR0FH2ap"
      },
      "id": "7CuHBR0FH2ap"
    },
    {
      "cell_type": "code",
      "source": [
        "train_df = pd.read_csv(train_csv)\n",
        "train_updates_df = pd.read_csv(train_updates_csv)\n",
        "test_df = pd.read_csv(test_csv)\n",
        "test_seq_id = test_df['seq_id']"
      ],
      "metadata": {
        "id": "gYfw_qcJ-Vn6"
      },
      "id": "gYfw_qcJ-Vn6",
      "execution_count": 222,
      "outputs": []
    },
    {
      "cell_type": "markdown",
      "source": [
        "Adjust the train data with respect to the corrections in the train_updates data\n",
        "for more information: [see here](https://www.kaggle.com/competitions/novozymes-enzyme-stability-prediction/discussion/356251)"
      ],
      "metadata": {
        "id": "4esHE0y6IH-L"
      },
      "id": "4esHE0y6IH-L"
    },
    {
      "cell_type": "code",
      "source": [
        "# seq_id of the row to be deleted in the train file\n",
        "seq_ids_to_delete = train_updates_df[train_updates_df[\"pH\"].isnull()][\"seq_id\"].values\n",
        "\n",
        "# seq_id of the row to be replaced in the train file\n",
        "seq_ids_to_replace = train_updates_df[train_updates_df[\"pH\"].notnull()][\"seq_id\"].values\n",
        "\n",
        "#drop the train rows\n",
        "train_df.drop(train_df[train_df.seq_id.isin(seq_ids_to_delete)].index, inplace=True)\n",
        "\n",
        "#replace the train rows with train update row\n",
        "train_df.loc[train_df.seq_id.isin(seq_ids_to_replace), [\"pH\", \"tm\"]] = train_updates_df[train_updates_df.seq_id.isin(seq_ids_to_replace)][[\"pH\", \"tm\"]].values"
      ],
      "metadata": {
        "id": "Ke7mXRdaBReJ"
      },
      "id": "Ke7mXRdaBReJ",
      "execution_count": 223,
      "outputs": []
    },
    {
      "cell_type": "markdown",
      "source": [
        "**EDA**"
      ],
      "metadata": {
        "id": "JsorKJ9YKChN"
      },
      "id": "JsorKJ9YKChN"
    },
    {
      "cell_type": "code",
      "source": [
        "train_df.info(verbose=True)"
      ],
      "metadata": {
        "id": "lL7iCp9XJ6VR",
        "outputId": "d3f95aa8-a229-462c-85c4-e167e51e9986",
        "colab": {
          "base_uri": "https://localhost:8080/"
        }
      },
      "id": "lL7iCp9XJ6VR",
      "execution_count": 224,
      "outputs": [
        {
          "output_type": "stream",
          "name": "stdout",
          "text": [
            "<class 'pandas.core.frame.DataFrame'>\n",
            "Int64Index: 28981 entries, 0 to 31389\n",
            "Data columns (total 5 columns):\n",
            " #   Column            Non-Null Count  Dtype  \n",
            "---  ------            --------------  -----  \n",
            " 0   seq_id            28981 non-null  int64  \n",
            " 1   protein_sequence  28981 non-null  object \n",
            " 2   pH                28695 non-null  float64\n",
            " 3   data_source       28001 non-null  object \n",
            " 4   tm                28981 non-null  float64\n",
            "dtypes: float64(2), int64(1), object(2)\n",
            "memory usage: 1.3+ MB\n"
          ]
        }
      ]
    },
    {
      "cell_type": "code",
      "source": [
        "# some of the PH values are null so delete those rows\n",
        "null_seq_ids = train_df[train_df[\"pH\"].isnull()][\"seq_id\"].values\n",
        "train_df.drop(train_df[train_df.seq_id.isin(null_seq_ids)].index, inplace=True)"
      ],
      "metadata": {
        "id": "U-32UrGrJ5_8"
      },
      "id": "U-32UrGrJ5_8",
      "execution_count": 225,
      "outputs": []
    },
    {
      "cell_type": "code",
      "source": [
        "train_df.info(verbose=True)"
      ],
      "metadata": {
        "id": "82mqBJxuHJZd",
        "outputId": "c2e41f1b-5525-4c86-c914-610bb3dbd258",
        "colab": {
          "base_uri": "https://localhost:8080/"
        }
      },
      "id": "82mqBJxuHJZd",
      "execution_count": 226,
      "outputs": [
        {
          "output_type": "stream",
          "name": "stdout",
          "text": [
            "<class 'pandas.core.frame.DataFrame'>\n",
            "Int64Index: 28695 entries, 0 to 31389\n",
            "Data columns (total 5 columns):\n",
            " #   Column            Non-Null Count  Dtype  \n",
            "---  ------            --------------  -----  \n",
            " 0   seq_id            28695 non-null  int64  \n",
            " 1   protein_sequence  28695 non-null  object \n",
            " 2   pH                28695 non-null  float64\n",
            " 3   data_source       27727 non-null  object \n",
            " 4   tm                28695 non-null  float64\n",
            "dtypes: float64(2), int64(1), object(2)\n",
            "memory usage: 1.3+ MB\n"
          ]
        }
      ]
    },
    {
      "cell_type": "code",
      "source": [
        "train_df.describe()[['pH', 'tm']].transpose()"
      ],
      "metadata": {
        "id": "zwlzLcD-Luj0",
        "outputId": "c9bb20a9-ad99-44e5-8b9e-2574dbc9f713",
        "colab": {
          "base_uri": "https://localhost:8080/",
          "height": 112
        }
      },
      "id": "zwlzLcD-Luj0",
      "execution_count": 227,
      "outputs": [
        {
          "output_type": "execute_result",
          "data": {
            "text/plain": [
              "      count       mean        std    min   25%   50%   75%    max\n",
              "pH  28695.0   6.872467   0.793184   1.99   7.0   7.0   7.0   11.0\n",
              "tm  28695.0  51.385604  12.076609  25.10  43.7  48.8  54.6  130.0"
            ],
            "text/html": [
              "\n",
              "  <div id=\"df-c22e5146-1061-40a6-8920-45ce1830bc7a\">\n",
              "    <div class=\"colab-df-container\">\n",
              "      <div>\n",
              "<style scoped>\n",
              "    .dataframe tbody tr th:only-of-type {\n",
              "        vertical-align: middle;\n",
              "    }\n",
              "\n",
              "    .dataframe tbody tr th {\n",
              "        vertical-align: top;\n",
              "    }\n",
              "\n",
              "    .dataframe thead th {\n",
              "        text-align: right;\n",
              "    }\n",
              "</style>\n",
              "<table border=\"1\" class=\"dataframe\">\n",
              "  <thead>\n",
              "    <tr style=\"text-align: right;\">\n",
              "      <th></th>\n",
              "      <th>count</th>\n",
              "      <th>mean</th>\n",
              "      <th>std</th>\n",
              "      <th>min</th>\n",
              "      <th>25%</th>\n",
              "      <th>50%</th>\n",
              "      <th>75%</th>\n",
              "      <th>max</th>\n",
              "    </tr>\n",
              "  </thead>\n",
              "  <tbody>\n",
              "    <tr>\n",
              "      <th>pH</th>\n",
              "      <td>28695.0</td>\n",
              "      <td>6.872467</td>\n",
              "      <td>0.793184</td>\n",
              "      <td>1.99</td>\n",
              "      <td>7.0</td>\n",
              "      <td>7.0</td>\n",
              "      <td>7.0</td>\n",
              "      <td>11.0</td>\n",
              "    </tr>\n",
              "    <tr>\n",
              "      <th>tm</th>\n",
              "      <td>28695.0</td>\n",
              "      <td>51.385604</td>\n",
              "      <td>12.076609</td>\n",
              "      <td>25.10</td>\n",
              "      <td>43.7</td>\n",
              "      <td>48.8</td>\n",
              "      <td>54.6</td>\n",
              "      <td>130.0</td>\n",
              "    </tr>\n",
              "  </tbody>\n",
              "</table>\n",
              "</div>\n",
              "      <button class=\"colab-df-convert\" onclick=\"convertToInteractive('df-c22e5146-1061-40a6-8920-45ce1830bc7a')\"\n",
              "              title=\"Convert this dataframe to an interactive table.\"\n",
              "              style=\"display:none;\">\n",
              "        \n",
              "  <svg xmlns=\"http://www.w3.org/2000/svg\" height=\"24px\"viewBox=\"0 0 24 24\"\n",
              "       width=\"24px\">\n",
              "    <path d=\"M0 0h24v24H0V0z\" fill=\"none\"/>\n",
              "    <path d=\"M18.56 5.44l.94 2.06.94-2.06 2.06-.94-2.06-.94-.94-2.06-.94 2.06-2.06.94zm-11 1L8.5 8.5l.94-2.06 2.06-.94-2.06-.94L8.5 2.5l-.94 2.06-2.06.94zm10 10l.94 2.06.94-2.06 2.06-.94-2.06-.94-.94-2.06-.94 2.06-2.06.94z\"/><path d=\"M17.41 7.96l-1.37-1.37c-.4-.4-.92-.59-1.43-.59-.52 0-1.04.2-1.43.59L10.3 9.45l-7.72 7.72c-.78.78-.78 2.05 0 2.83L4 21.41c.39.39.9.59 1.41.59.51 0 1.02-.2 1.41-.59l7.78-7.78 2.81-2.81c.8-.78.8-2.07 0-2.86zM5.41 20L4 18.59l7.72-7.72 1.47 1.35L5.41 20z\"/>\n",
              "  </svg>\n",
              "      </button>\n",
              "      \n",
              "  <style>\n",
              "    .colab-df-container {\n",
              "      display:flex;\n",
              "      flex-wrap:wrap;\n",
              "      gap: 12px;\n",
              "    }\n",
              "\n",
              "    .colab-df-convert {\n",
              "      background-color: #E8F0FE;\n",
              "      border: none;\n",
              "      border-radius: 50%;\n",
              "      cursor: pointer;\n",
              "      display: none;\n",
              "      fill: #1967D2;\n",
              "      height: 32px;\n",
              "      padding: 0 0 0 0;\n",
              "      width: 32px;\n",
              "    }\n",
              "\n",
              "    .colab-df-convert:hover {\n",
              "      background-color: #E2EBFA;\n",
              "      box-shadow: 0px 1px 2px rgba(60, 64, 67, 0.3), 0px 1px 3px 1px rgba(60, 64, 67, 0.15);\n",
              "      fill: #174EA6;\n",
              "    }\n",
              "\n",
              "    [theme=dark] .colab-df-convert {\n",
              "      background-color: #3B4455;\n",
              "      fill: #D2E3FC;\n",
              "    }\n",
              "\n",
              "    [theme=dark] .colab-df-convert:hover {\n",
              "      background-color: #434B5C;\n",
              "      box-shadow: 0px 1px 3px 1px rgba(0, 0, 0, 0.15);\n",
              "      filter: drop-shadow(0px 1px 2px rgba(0, 0, 0, 0.3));\n",
              "      fill: #FFFFFF;\n",
              "    }\n",
              "  </style>\n",
              "\n",
              "      <script>\n",
              "        const buttonEl =\n",
              "          document.querySelector('#df-c22e5146-1061-40a6-8920-45ce1830bc7a button.colab-df-convert');\n",
              "        buttonEl.style.display =\n",
              "          google.colab.kernel.accessAllowed ? 'block' : 'none';\n",
              "\n",
              "        async function convertToInteractive(key) {\n",
              "          const element = document.querySelector('#df-c22e5146-1061-40a6-8920-45ce1830bc7a');\n",
              "          const dataTable =\n",
              "            await google.colab.kernel.invokeFunction('convertToInteractive',\n",
              "                                                     [key], {});\n",
              "          if (!dataTable) return;\n",
              "\n",
              "          const docLinkHtml = 'Like what you see? Visit the ' +\n",
              "            '<a target=\"_blank\" href=https://colab.research.google.com/notebooks/data_table.ipynb>data table notebook</a>'\n",
              "            + ' to learn more about interactive tables.';\n",
              "          element.innerHTML = '';\n",
              "          dataTable['output_type'] = 'display_data';\n",
              "          await google.colab.output.renderOutput(dataTable, element);\n",
              "          const docLink = document.createElement('div');\n",
              "          docLink.innerHTML = docLinkHtml;\n",
              "          element.appendChild(docLink);\n",
              "        }\n",
              "      </script>\n",
              "    </div>\n",
              "  </div>\n",
              "  "
            ]
          },
          "metadata": {},
          "execution_count": 227
        }
      ]
    },
    {
      "cell_type": "code",
      "source": [
        "# Get the unique values of PH in train data \n",
        "train_df.pH.unique()"
      ],
      "metadata": {
        "id": "CARd_66qOjtE",
        "outputId": "d5eb99e1-25eb-4c99-e10b-ccabc80c630c",
        "colab": {
          "base_uri": "https://localhost:8080/"
        }
      },
      "id": "CARd_66qOjtE",
      "execution_count": 228,
      "outputs": [
        {
          "output_type": "execute_result",
          "data": {
            "text/plain": [
              "array([ 7.  ,  7.5 ,  5.5 ,  6.2 ,  6.3 ,  8.5 ,  3.  ,  6.8 ,  6.4 ,\n",
              "        6.6 ,  6.7 ,  6.5 ,  4.5 ,  7.3 ,  5.  ,  6.  ,  4.  ,  3.5 ,\n",
              "        7.4 ,  4.2 ,  5.1 ,  7.1 ,  3.2 ,  2.5 ,  2.  ,  5.2 ,  7.2 ,\n",
              "        8.  ,  5.8 ,  7.8 ,  9.  ,  7.7 ,  7.6 , 10.  ,  8.2 ,  2.7 ,\n",
              "        2.8 ,  2.9 ,  3.1 ,  3.14,  2.53,  2.3 ,  2.2 ,  2.81,  8.25,\n",
              "        9.9 ,  9.5 , 10.4 ,  9.08,  3.7 ,  4.6 ,  4.4 ,  3.6 ,  5.4 ,\n",
              "        5.35,  5.38,  5.9 ,  5.28,  5.42,  6.1 ,  9.7 ,  8.6 ,  6.78,\n",
              "        5.3 ,  5.31,  3.02,  6.9 ,  5.7 ,  4.9 ,  4.3 ,  5.45,  3.01,\n",
              "        3.3 ,  3.8 ,  4.8 ,  2.4 ,  2.84,  2.34,  4.7 ,  2.1 ,  3.9 ,\n",
              "        2.02,  2.83,  2.03,  2.86,  1.99,  3.16,  2.94,  9.75,  3.15,\n",
              "        3.07,  3.04,  3.25,  3.21,  2.98,  3.19,  4.1 ,  5.6 ,  3.75,\n",
              "        4.75,  4.25,  9.6 , 11.  , 10.3 ])"
            ]
          },
          "metadata": {},
          "execution_count": 228
        }
      ]
    },
    {
      "cell_type": "code",
      "source": [
        "# Remove rows of ph less than 6 or greater than 8\n",
        "train_df.drop(train_df[train_df.pH > 8 ].index, inplace=True)\n",
        "train_df.drop(train_df[train_df.pH < 6 ].index, inplace=True)\n",
        "train_df.pH.unique()"
      ],
      "metadata": {
        "id": "BrzouK7nQMsc",
        "outputId": "e94c466e-bd92-448f-d6c4-35cf57fd6d84",
        "colab": {
          "base_uri": "https://localhost:8080/"
        }
      },
      "id": "BrzouK7nQMsc",
      "execution_count": 229,
      "outputs": [
        {
          "output_type": "execute_result",
          "data": {
            "text/plain": [
              "array([7.  , 7.5 , 6.2 , 6.3 , 6.8 , 6.4 , 6.6 , 6.7 , 6.5 , 7.3 , 6.  ,\n",
              "       7.4 , 7.1 , 7.2 , 8.  , 7.8 , 7.7 , 7.6 , 6.1 , 6.78, 6.9 ])"
            ]
          },
          "metadata": {},
          "execution_count": 229
        }
      ]
    },
    {
      "cell_type": "code",
      "source": [
        "train_df.describe()[['pH', 'tm']].transpose()"
      ],
      "metadata": {
        "id": "dkpjXYYYSpmG",
        "outputId": "86842a38-b47e-4a83-85a5-2ea0b640cdd1",
        "colab": {
          "base_uri": "https://localhost:8080/",
          "height": 112
        }
      },
      "id": "dkpjXYYYSpmG",
      "execution_count": 230,
      "outputs": [
        {
          "output_type": "execute_result",
          "data": {
            "text/plain": [
              "      count       mean        std   min   25%   50%   75%    max\n",
              "pH  26997.0   7.018893   0.161061   6.0   7.0   7.0   7.0    8.0\n",
              "tm  26997.0  51.239497  12.030520  25.1  43.6  48.6  54.2  130.0"
            ],
            "text/html": [
              "\n",
              "  <div id=\"df-ceeaf619-4690-4bd9-b4a6-7e15349471cf\">\n",
              "    <div class=\"colab-df-container\">\n",
              "      <div>\n",
              "<style scoped>\n",
              "    .dataframe tbody tr th:only-of-type {\n",
              "        vertical-align: middle;\n",
              "    }\n",
              "\n",
              "    .dataframe tbody tr th {\n",
              "        vertical-align: top;\n",
              "    }\n",
              "\n",
              "    .dataframe thead th {\n",
              "        text-align: right;\n",
              "    }\n",
              "</style>\n",
              "<table border=\"1\" class=\"dataframe\">\n",
              "  <thead>\n",
              "    <tr style=\"text-align: right;\">\n",
              "      <th></th>\n",
              "      <th>count</th>\n",
              "      <th>mean</th>\n",
              "      <th>std</th>\n",
              "      <th>min</th>\n",
              "      <th>25%</th>\n",
              "      <th>50%</th>\n",
              "      <th>75%</th>\n",
              "      <th>max</th>\n",
              "    </tr>\n",
              "  </thead>\n",
              "  <tbody>\n",
              "    <tr>\n",
              "      <th>pH</th>\n",
              "      <td>26997.0</td>\n",
              "      <td>7.018893</td>\n",
              "      <td>0.161061</td>\n",
              "      <td>6.0</td>\n",
              "      <td>7.0</td>\n",
              "      <td>7.0</td>\n",
              "      <td>7.0</td>\n",
              "      <td>8.0</td>\n",
              "    </tr>\n",
              "    <tr>\n",
              "      <th>tm</th>\n",
              "      <td>26997.0</td>\n",
              "      <td>51.239497</td>\n",
              "      <td>12.030520</td>\n",
              "      <td>25.1</td>\n",
              "      <td>43.6</td>\n",
              "      <td>48.6</td>\n",
              "      <td>54.2</td>\n",
              "      <td>130.0</td>\n",
              "    </tr>\n",
              "  </tbody>\n",
              "</table>\n",
              "</div>\n",
              "      <button class=\"colab-df-convert\" onclick=\"convertToInteractive('df-ceeaf619-4690-4bd9-b4a6-7e15349471cf')\"\n",
              "              title=\"Convert this dataframe to an interactive table.\"\n",
              "              style=\"display:none;\">\n",
              "        \n",
              "  <svg xmlns=\"http://www.w3.org/2000/svg\" height=\"24px\"viewBox=\"0 0 24 24\"\n",
              "       width=\"24px\">\n",
              "    <path d=\"M0 0h24v24H0V0z\" fill=\"none\"/>\n",
              "    <path d=\"M18.56 5.44l.94 2.06.94-2.06 2.06-.94-2.06-.94-.94-2.06-.94 2.06-2.06.94zm-11 1L8.5 8.5l.94-2.06 2.06-.94-2.06-.94L8.5 2.5l-.94 2.06-2.06.94zm10 10l.94 2.06.94-2.06 2.06-.94-2.06-.94-.94-2.06-.94 2.06-2.06.94z\"/><path d=\"M17.41 7.96l-1.37-1.37c-.4-.4-.92-.59-1.43-.59-.52 0-1.04.2-1.43.59L10.3 9.45l-7.72 7.72c-.78.78-.78 2.05 0 2.83L4 21.41c.39.39.9.59 1.41.59.51 0 1.02-.2 1.41-.59l7.78-7.78 2.81-2.81c.8-.78.8-2.07 0-2.86zM5.41 20L4 18.59l7.72-7.72 1.47 1.35L5.41 20z\"/>\n",
              "  </svg>\n",
              "      </button>\n",
              "      \n",
              "  <style>\n",
              "    .colab-df-container {\n",
              "      display:flex;\n",
              "      flex-wrap:wrap;\n",
              "      gap: 12px;\n",
              "    }\n",
              "\n",
              "    .colab-df-convert {\n",
              "      background-color: #E8F0FE;\n",
              "      border: none;\n",
              "      border-radius: 50%;\n",
              "      cursor: pointer;\n",
              "      display: none;\n",
              "      fill: #1967D2;\n",
              "      height: 32px;\n",
              "      padding: 0 0 0 0;\n",
              "      width: 32px;\n",
              "    }\n",
              "\n",
              "    .colab-df-convert:hover {\n",
              "      background-color: #E2EBFA;\n",
              "      box-shadow: 0px 1px 2px rgba(60, 64, 67, 0.3), 0px 1px 3px 1px rgba(60, 64, 67, 0.15);\n",
              "      fill: #174EA6;\n",
              "    }\n",
              "\n",
              "    [theme=dark] .colab-df-convert {\n",
              "      background-color: #3B4455;\n",
              "      fill: #D2E3FC;\n",
              "    }\n",
              "\n",
              "    [theme=dark] .colab-df-convert:hover {\n",
              "      background-color: #434B5C;\n",
              "      box-shadow: 0px 1px 3px 1px rgba(0, 0, 0, 0.15);\n",
              "      filter: drop-shadow(0px 1px 2px rgba(0, 0, 0, 0.3));\n",
              "      fill: #FFFFFF;\n",
              "    }\n",
              "  </style>\n",
              "\n",
              "      <script>\n",
              "        const buttonEl =\n",
              "          document.querySelector('#df-ceeaf619-4690-4bd9-b4a6-7e15349471cf button.colab-df-convert');\n",
              "        buttonEl.style.display =\n",
              "          google.colab.kernel.accessAllowed ? 'block' : 'none';\n",
              "\n",
              "        async function convertToInteractive(key) {\n",
              "          const element = document.querySelector('#df-ceeaf619-4690-4bd9-b4a6-7e15349471cf');\n",
              "          const dataTable =\n",
              "            await google.colab.kernel.invokeFunction('convertToInteractive',\n",
              "                                                     [key], {});\n",
              "          if (!dataTable) return;\n",
              "\n",
              "          const docLinkHtml = 'Like what you see? Visit the ' +\n",
              "            '<a target=\"_blank\" href=https://colab.research.google.com/notebooks/data_table.ipynb>data table notebook</a>'\n",
              "            + ' to learn more about interactive tables.';\n",
              "          element.innerHTML = '';\n",
              "          dataTable['output_type'] = 'display_data';\n",
              "          await google.colab.output.renderOutput(dataTable, element);\n",
              "          const docLink = document.createElement('div');\n",
              "          docLink.innerHTML = docLinkHtml;\n",
              "          element.appendChild(docLink);\n",
              "        }\n",
              "      </script>\n",
              "    </div>\n",
              "  </div>\n",
              "  "
            ]
          },
          "metadata": {},
          "execution_count": 230
        }
      ]
    },
    {
      "cell_type": "code",
      "source": [
        "train_df.info(verbose=True)"
      ],
      "metadata": {
        "id": "LTrO0gKvSs6_",
        "outputId": "de117c68-415e-4f98-dccc-82222141edec",
        "colab": {
          "base_uri": "https://localhost:8080/"
        }
      },
      "id": "LTrO0gKvSs6_",
      "execution_count": 231,
      "outputs": [
        {
          "output_type": "stream",
          "name": "stdout",
          "text": [
            "<class 'pandas.core.frame.DataFrame'>\n",
            "Int64Index: 26997 entries, 0 to 31389\n",
            "Data columns (total 5 columns):\n",
            " #   Column            Non-Null Count  Dtype  \n",
            "---  ------            --------------  -----  \n",
            " 0   seq_id            26997 non-null  int64  \n",
            " 1   protein_sequence  26997 non-null  object \n",
            " 2   pH                26997 non-null  float64\n",
            " 3   data_source       26521 non-null  object \n",
            " 4   tm                26997 non-null  float64\n",
            "dtypes: float64(2), int64(1), object(2)\n",
            "memory usage: 1.2+ MB\n"
          ]
        }
      ]
    },
    {
      "cell_type": "code",
      "source": [
        "def getMolecularWeight(aminoacid):\n",
        "  if aminoacid == \"A\": return 89\n",
        "  elif aminoacid == \"R\": return 174\n",
        "  elif aminoacid == \"N\": return 132\n",
        "  elif aminoacid == \"D\": return 133\n",
        "  elif aminoacid == \"B\": return 133\n",
        "  elif aminoacid == \"C\": return 121\n",
        "  elif aminoacid == \"Q\": return 146\n",
        "  elif aminoacid == \"E\": return 147\n",
        "  elif aminoacid == \"Z\": return 147\n",
        "  elif aminoacid == \"G\": return 75\n",
        "  elif aminoacid == \"H\": return 155\n",
        "  elif aminoacid == \"I\": return 131\n",
        "  elif aminoacid == \"L\": return 131\n",
        "  elif aminoacid == \"K\": return 146\n",
        "  elif aminoacid == \"M\": return 149\n",
        "  elif aminoacid == \"F\": return 165\n",
        "  elif aminoacid == \"P\": return 115\n",
        "  elif aminoacid == \"S\": return 105\n",
        "  elif aminoacid == \"T\": return 119\n",
        "  elif aminoacid == \"W\": return 204\n",
        "  elif aminoacid == \"Y\": return 181\n",
        "  elif aminoacid == \"V\": return 117\n",
        "  else: return 0"
      ],
      "metadata": {
        "id": "8FGtnDup0hih"
      },
      "id": "8FGtnDup0hih",
      "execution_count": 232,
      "outputs": []
    },
    {
      "cell_type": "code",
      "source": [
        "def proteinSequenceToAmioAcidMolecularWeightWithPhAndLabel(data):\n",
        "  amionAcidSequence = []\n",
        "  img = []\n",
        "  label = []\n",
        "  for index, row in data.iterrows():\n",
        "    ph = row['pH']\n",
        "    tm = row['tm']\n",
        "    molecularWeightOfAminoAcidInSequence = []\n",
        "    pHofProteinSequence = []\n",
        "    for aminoacid in (row['protein_sequence']):\n",
        "      molecularWeight = getMolecularWeight(aminoacid)\n",
        "      molecularWeightOfAminoAcidInSequence.append(molecularWeight/110)\n",
        "      pHofProteinSequence.append(ph)\n",
        "    a = np.array([molecularWeightOfAminoAcidInSequence,pHofProteinSequence])\n",
        "    a = a[None, :]\n",
        "    img.append(a)\n",
        "    label.append(tm)\n",
        "  return [img, label]"
      ],
      "metadata": {
        "id": "fNcUi7YViuDN"
      },
      "id": "fNcUi7YViuDN",
      "execution_count": 233,
      "outputs": []
    },
    {
      "cell_type": "code",
      "source": [
        "def proteinSequenceToAmioAcidMolecularWeightWithPh(data):\n",
        "  amionAcidSequence = []\n",
        "  img = []\n",
        "  for index, row in data.iterrows():\n",
        "    ph = row['pH']\n",
        "    molecularWeightOfAminoAcidInSequence = []\n",
        "    pHofProteinSequence = []\n",
        "    for aminoacid in (row['protein_sequence']):\n",
        "      molecularWeight = getMolecularWeight(aminoacid)\n",
        "      molecularWeightOfAminoAcidInSequence.append(molecularWeight/110)\n",
        "      pHofProteinSequence.append(ph)\n",
        "    a = np.array([molecularWeightOfAminoAcidInSequence,pHofProteinSequence])\n",
        "    a = a[None, :]\n",
        "    img.append(a)\n",
        "  return img"
      ],
      "metadata": {
        "id": "qowPVV7HTbfV"
      },
      "id": "qowPVV7HTbfV",
      "execution_count": 234,
      "outputs": []
    },
    {
      "cell_type": "code",
      "source": [
        "train_img, train_label = proteinSequenceToAmioAcidMolecularWeightWithPhAndLabel(train_df)\n",
        "test_img = proteinSequenceToAmioAcidMolecularWeightWithPh(test_df)"
      ],
      "metadata": {
        "id": "kSiRJhI10q4K"
      },
      "id": "kSiRJhI10q4K",
      "execution_count": 235,
      "outputs": []
    },
    {
      "cell_type": "code",
      "source": [
        "import torchvision.transforms as T\n",
        "from PIL import Image\n",
        "\n",
        "preprocess = T.Compose([\n",
        "   T.Resize((32,32)),\n",
        "])\n",
        "\n",
        "def change_shape(data):\n",
        "    torch_img = []\n",
        "    for im in (data):\n",
        "        im = torch.FloatTensor(im)\n",
        "        #transform = T.ToPILImage()\n",
        "        #img = transform(im)\n",
        "        x = preprocess(im)\n",
        "        x = x.cpu().detach().numpy()\n",
        "        torch_img.append(x)\n",
        "    return torch_img"
      ],
      "metadata": {
        "id": "qm9aJqhKqvcB"
      },
      "id": "qm9aJqhKqvcB",
      "execution_count": 236,
      "outputs": []
    },
    {
      "cell_type": "code",
      "source": [
        "train_img = change_shape(train_img)\n",
        "test_img = change_shape(test_img)"
      ],
      "metadata": {
        "id": "Giam_-nbtRdI"
      },
      "id": "Giam_-nbtRdI",
      "execution_count": 237,
      "outputs": []
    },
    {
      "cell_type": "code",
      "source": [
        "class TrainData(Dataset):\n",
        "    \n",
        "    def __init__(self, X_data, y_data):\n",
        "        self.X_data = X_data\n",
        "        self.y_data = y_data\n",
        "        \n",
        "    def __getitem__(self, index):\n",
        "        return self.X_data[index], self.y_data[index]\n",
        "        \n",
        "    def __len__ (self):\n",
        "        return len(self.X_data)"
      ],
      "metadata": {
        "id": "x3HsMHGetXdu"
      },
      "id": "x3HsMHGetXdu",
      "execution_count": 239,
      "outputs": []
    },
    {
      "cell_type": "code",
      "source": [
        "class TestData(Dataset):\n",
        "    \n",
        "    def __init__(self, X_data):\n",
        "        self.X_data = X_data\n",
        "        \n",
        "    def __getitem__(self, index):\n",
        "        return self.X_data[index]\n",
        "        \n",
        "    def __len__ (self):\n",
        "        return len(self.X_data)"
      ],
      "metadata": {
        "id": "WjYQtZXBVDqt"
      },
      "id": "WjYQtZXBVDqt",
      "execution_count": 240,
      "outputs": []
    },
    {
      "cell_type": "code",
      "source": [
        "train_data = TrainData(torch.FloatTensor(train_img), torch.FloatTensor(train_label))\n",
        "test_data = TestData(torch.FloatTensor(test_img))"
      ],
      "metadata": {
        "id": "VJJiBNjStcik"
      },
      "id": "VJJiBNjStcik",
      "execution_count": 241,
      "outputs": []
    },
    {
      "cell_type": "code",
      "source": [
        "train_size = int(0.8 * len(train_data))\n",
        "val_size = len(train_data) - train_size\n",
        "training_data, validation_data = torch.utils.data.random_split(train_data, [train_size, val_size])"
      ],
      "metadata": {
        "id": "mbJSo1MkCdLF"
      },
      "id": "mbJSo1MkCdLF",
      "execution_count": 242,
      "outputs": []
    },
    {
      "cell_type": "code",
      "source": [
        "BATCH_SIZE = 64\n",
        "training_loader = DataLoader(dataset=training_data, batch_size=BATCH_SIZE, shuffle=True, num_workers=2, pin_memory=True)\n",
        "validation_loader = DataLoader(dataset=validation_data, batch_size=BATCH_SIZE, shuffle=False, num_workers=2, pin_memory=True)\n",
        "test_loader = DataLoader(dataset=test_data, batch_size=1, shuffle=False, num_workers=2, pin_memory=True)"
      ],
      "metadata": {
        "id": "1YsmqiJ1tg6F"
      },
      "id": "1YsmqiJ1tg6F",
      "execution_count": 248,
      "outputs": []
    },
    {
      "cell_type": "code",
      "source": [
        "class NovoNet(nn.Module):\n",
        "    def __init__(self, name='Novonet'):\n",
        "        super(NovoNet, self).__init__()\n",
        "        if name:\n",
        "            self.name = name\n",
        "        self.conv1 = nn.Conv2d(1, 6, 5)\n",
        "        self.pool = nn.MaxPool2d(2, 2)\n",
        "        self.conv2 = nn.Conv2d(6, 16, 5)\n",
        "        self.fc1 = nn.Linear(16 * 5 * 5, 120)\n",
        "        self.fc2 = nn.Linear(120, 84)\n",
        "        self.fc3 = nn.Linear(84, 1)\n",
        "        \n",
        "        # compute the total number of parameters\n",
        "        total_params = sum(p.numel() for p in self.parameters() if p.requires_grad)\n",
        "        print(self.name + ': total params:', total_params)\n",
        "\n",
        "    def forward(self, x):\n",
        "        x = self.pool(F.relu(self.conv1(x)))\n",
        "        x = self.pool(F.relu(self.conv2(x)))\n",
        "        x = x.view(-1, 16 * 5 * 5)\n",
        "        x = F.relu(self.fc1(x))\n",
        "        x = F.relu(self.fc2(x))\n",
        "        x = self.fc3(x)\n",
        "        return x"
      ],
      "metadata": {
        "id": "MfxUh2yKY2zA"
      },
      "id": "MfxUh2yKY2zA",
      "execution_count": 249,
      "outputs": []
    },
    {
      "cell_type": "code",
      "source": [
        "device = torch.device(\"cuda:0\" if torch.cuda.is_available() else \"cpu\")\n",
        "print(device)"
      ],
      "metadata": {
        "id": "PVIkJdWGfRwN",
        "outputId": "9bcf9c66-33bb-4d9c-c590-3798be71a6d7",
        "colab": {
          "base_uri": "https://localhost:8080/"
        }
      },
      "id": "PVIkJdWGfRwN",
      "execution_count": 250,
      "outputs": [
        {
          "output_type": "stream",
          "name": "stdout",
          "text": [
            "cuda:0\n"
          ]
        }
      ]
    },
    {
      "cell_type": "code",
      "source": [
        "net = NovoNet(name='Novonet')\n",
        "net.to(device)"
      ],
      "metadata": {
        "id": "19skUICLfi4h",
        "outputId": "3210e469-6175-4da5-9e29-c614f2e7e93e",
        "colab": {
          "base_uri": "https://localhost:8080/"
        }
      },
      "id": "19skUICLfi4h",
      "execution_count": 251,
      "outputs": [
        {
          "output_type": "stream",
          "name": "stdout",
          "text": [
            "Novonet: total params: 60941\n"
          ]
        },
        {
          "output_type": "execute_result",
          "data": {
            "text/plain": [
              "NovoNet(\n",
              "  (conv1): Conv2d(1, 6, kernel_size=(5, 5), stride=(1, 1))\n",
              "  (pool): MaxPool2d(kernel_size=2, stride=2, padding=0, dilation=1, ceil_mode=False)\n",
              "  (conv2): Conv2d(6, 16, kernel_size=(5, 5), stride=(1, 1))\n",
              "  (fc1): Linear(in_features=400, out_features=120, bias=True)\n",
              "  (fc2): Linear(in_features=120, out_features=84, bias=True)\n",
              "  (fc3): Linear(in_features=84, out_features=1, bias=True)\n",
              ")"
            ]
          },
          "metadata": {},
          "execution_count": 251
        }
      ]
    },
    {
      "cell_type": "code",
      "source": [
        "LEARNING_RATE = 0.001\n",
        "criterion = nn.MSELoss()\n",
        "optimizer = torch.optim.Adam(net.parameters(), lr=LEARNING_RATE)"
      ],
      "metadata": {
        "id": "LjG-TnyJfz3t"
      },
      "id": "LjG-TnyJfz3t",
      "execution_count": 252,
      "outputs": []
    },
    {
      "cell_type": "code",
      "source": [
        "EPOCHS = 100\n",
        "\n",
        "training_score_history = []\n",
        "training_losses_history = []\n",
        "validation_score_history = []\n",
        "validation_losses_history = []\n",
        "for epoch in range(EPOCHS):\n",
        "    net.train()\n",
        "    training_score = []\n",
        "    training_loss = []\n",
        "    for img, label in training_loader:\n",
        "      img, label = img.to(device), label.to(device)\n",
        "      label = label.unsqueeze(1)\n",
        "    \n",
        "      #==========Forward pass===============\n",
        "      preds = net(img)\n",
        "      loss = criterion(preds, label)\n",
        "      \n",
        "      #==========backward pass==============\n",
        "      optimizer.zero_grad()\n",
        "      loss.backward()\n",
        "      optimizer.step()\n",
        "\n",
        "\n",
        "      train_result = stats.spearmanr(preds.detach().cpu().numpy(), label.cpu().numpy())\n",
        "      training_score.append(train_result.correlation)\n",
        "      training_loss.append(loss.item())\n",
        "    \n",
        "    validation_score = []\n",
        "    validation_loss = []\n",
        "    for img, label in validation_loader:\n",
        "      net.eval()\n",
        "      with torch.no_grad():\n",
        "        img, label = img.to(device), label.to(device)\n",
        "        label = label.unsqueeze(1)\n",
        "      \n",
        "        val_preds = net(img)\n",
        "        val_loss = criterion(val_preds, label)\n",
        "\n",
        "        val_result = stats.spearmanr(val_preds.detach().cpu().numpy(), label.cpu().numpy())\n",
        "        validation_score.append(val_result.correlation)\n",
        "        validation_loss.append(val_loss.item())\n",
        "    training_scores = np.mean(training_score)\n",
        "    training_losses = np.mean(training_loss)\n",
        "    validation_scores = np.mean(validation_score)\n",
        "    validation_losses = np.mean(validation_loss)\n",
        "\n",
        "    training_score_history.append(training_scores)\n",
        "    training_losses_history.append(training_losses)\n",
        "    validation_score_history.append(validation_scores)\n",
        "    validation_losses_history.append(validation_losses)\n",
        "    print(f'{epoch+1:03} EPOCH - Training score : {np.mean(training_scores):.5f} | Validation score : {np.mean(validation_scores):.5f} | Training loss : {np.mean(training_losses):.5f} | Validation loss : {np.mean(validation_losses):.5f}')"
      ],
      "metadata": {
        "id": "HNVSaAcagZJl",
        "outputId": "de79152f-265f-4a7e-8160-2abda47a7256",
        "colab": {
          "base_uri": "https://localhost:8080/"
        }
      },
      "id": "HNVSaAcagZJl",
      "execution_count": 253,
      "outputs": [
        {
          "output_type": "stream",
          "name": "stdout",
          "text": [
            "001 EPOCH - Training score : -0.00142 | Validation score : 0.00535 | Training loss : 270.91462 | Validation loss : 143.13118\n",
            "002 EPOCH - Training score : -0.00175 | Validation score : 0.00593 | Training loss : 148.08522 | Validation loss : 150.82129\n",
            "003 EPOCH - Training score : -0.00263 | Validation score : 0.00900 | Training loss : 148.20882 | Validation loss : 144.30874\n",
            "004 EPOCH - Training score : 0.00165 | Validation score : 0.01141 | Training loss : 147.03001 | Validation loss : 145.54523\n",
            "005 EPOCH - Training score : 0.00553 | Validation score : 0.01699 | Training loss : 147.86102 | Validation loss : 142.15136\n",
            "006 EPOCH - Training score : 0.01142 | Validation score : 0.02003 | Training loss : 148.86560 | Validation loss : 146.13405\n",
            "007 EPOCH - Training score : 0.01332 | Validation score : 0.02359 | Training loss : 150.11653 | Validation loss : 142.64483\n",
            "008 EPOCH - Training score : 0.02010 | Validation score : 0.02779 | Training loss : 148.02885 | Validation loss : 142.57278\n",
            "009 EPOCH - Training score : 0.02497 | Validation score : 0.03533 | Training loss : 146.93417 | Validation loss : 142.81669\n",
            "010 EPOCH - Training score : 0.03378 | Validation score : 0.03282 | Training loss : 148.34717 | Validation loss : 153.54418\n",
            "011 EPOCH - Training score : 0.03463 | Validation score : 0.04709 | Training loss : 147.92387 | Validation loss : 164.99099\n",
            "012 EPOCH - Training score : 0.04571 | Validation score : 0.05554 | Training loss : 148.01646 | Validation loss : 148.36680\n",
            "013 EPOCH - Training score : 0.05445 | Validation score : 0.05958 | Training loss : 147.79862 | Validation loss : 142.02191\n",
            "014 EPOCH - Training score : 0.06298 | Validation score : 0.06576 | Training loss : 146.12399 | Validation loss : 142.40293\n",
            "015 EPOCH - Training score : 0.07171 | Validation score : 0.06777 | Training loss : 147.54905 | Validation loss : 156.00679\n",
            "016 EPOCH - Training score : 0.07291 | Validation score : 0.07732 | Training loss : 145.97907 | Validation loss : 156.60349\n",
            "017 EPOCH - Training score : 0.07968 | Validation score : 0.08038 | Training loss : 148.14372 | Validation loss : 142.29821\n",
            "018 EPOCH - Training score : 0.08230 | Validation score : 0.08043 | Training loss : 147.54420 | Validation loss : 146.48045\n",
            "019 EPOCH - Training score : 0.08586 | Validation score : 0.08272 | Training loss : 145.35477 | Validation loss : 141.31085\n",
            "020 EPOCH - Training score : 0.08563 | Validation score : 0.08596 | Training loss : 147.08460 | Validation loss : 152.33440\n",
            "021 EPOCH - Training score : 0.08868 | Validation score : 0.08643 | Training loss : 145.62917 | Validation loss : 140.87217\n",
            "022 EPOCH - Training score : 0.08819 | Validation score : 0.08787 | Training loss : 146.26010 | Validation loss : 148.66809\n",
            "023 EPOCH - Training score : 0.09032 | Validation score : 0.08938 | Training loss : 145.93721 | Validation loss : 140.52738\n",
            "024 EPOCH - Training score : 0.09250 | Validation score : 0.09284 | Training loss : 145.17931 | Validation loss : 140.75841\n",
            "025 EPOCH - Training score : 0.09627 | Validation score : 0.08642 | Training loss : 145.98100 | Validation loss : 146.15015\n",
            "026 EPOCH - Training score : 0.09386 | Validation score : 0.09412 | Training loss : 145.05406 | Validation loss : 141.28124\n",
            "027 EPOCH - Training score : 0.10372 | Validation score : 0.09666 | Training loss : 144.45931 | Validation loss : 140.41527\n",
            "028 EPOCH - Training score : 0.10392 | Validation score : 0.09328 | Training loss : 144.15031 | Validation loss : 141.06763\n",
            "029 EPOCH - Training score : 0.10341 | Validation score : 0.09619 | Training loss : 144.63606 | Validation loss : 140.38089\n",
            "030 EPOCH - Training score : 0.09883 | Validation score : 0.08724 | Training loss : 144.83848 | Validation loss : 154.55718\n",
            "031 EPOCH - Training score : 0.10455 | Validation score : 0.09341 | Training loss : 144.73762 | Validation loss : 140.48448\n",
            "032 EPOCH - Training score : 0.10722 | Validation score : 0.09016 | Training loss : 144.60354 | Validation loss : 140.48451\n",
            "033 EPOCH - Training score : 0.10415 | Validation score : 0.09595 | Training loss : 144.68012 | Validation loss : 142.50690\n",
            "034 EPOCH - Training score : 0.10982 | Validation score : 0.09750 | Training loss : 144.37067 | Validation loss : 141.58118\n",
            "035 EPOCH - Training score : 0.11100 | Validation score : 0.09833 | Training loss : 144.05399 | Validation loss : 141.28631\n",
            "036 EPOCH - Training score : 0.11213 | Validation score : 0.09475 | Training loss : 144.70210 | Validation loss : 140.39297\n",
            "037 EPOCH - Training score : 0.11176 | Validation score : 0.09333 | Training loss : 144.29379 | Validation loss : 145.87311\n",
            "038 EPOCH - Training score : 0.11274 | Validation score : 0.09572 | Training loss : 143.50294 | Validation loss : 140.94138\n",
            "039 EPOCH - Training score : 0.11275 | Validation score : 0.09496 | Training loss : 144.39695 | Validation loss : 141.21395\n",
            "040 EPOCH - Training score : 0.11376 | Validation score : 0.10092 | Training loss : 144.35133 | Validation loss : 145.51016\n",
            "041 EPOCH - Training score : 0.11749 | Validation score : 0.09771 | Training loss : 143.72599 | Validation loss : 140.34299\n",
            "042 EPOCH - Training score : 0.11629 | Validation score : 0.10279 | Training loss : 143.50681 | Validation loss : 144.75588\n",
            "043 EPOCH - Training score : 0.11832 | Validation score : 0.11232 | Training loss : 143.62082 | Validation loss : 145.02552\n",
            "044 EPOCH - Training score : 0.11585 | Validation score : 0.10835 | Training loss : 143.84673 | Validation loss : 140.79672\n",
            "045 EPOCH - Training score : 0.11843 | Validation score : 0.10643 | Training loss : 144.73022 | Validation loss : 149.17599\n",
            "046 EPOCH - Training score : 0.12104 | Validation score : 0.10869 | Training loss : 143.13104 | Validation loss : 141.58340\n",
            "047 EPOCH - Training score : 0.12041 | Validation score : 0.10877 | Training loss : 143.93923 | Validation loss : 144.02833\n",
            "048 EPOCH - Training score : 0.12056 | Validation score : 0.10963 | Training loss : 143.80922 | Validation loss : 140.45986\n",
            "049 EPOCH - Training score : 0.12144 | Validation score : 0.10855 | Training loss : 143.82564 | Validation loss : 147.00822\n",
            "050 EPOCH - Training score : 0.12211 | Validation score : 0.10977 | Training loss : 142.77723 | Validation loss : 140.01998\n",
            "051 EPOCH - Training score : 0.12651 | Validation score : 0.10959 | Training loss : 143.61280 | Validation loss : 141.74883\n",
            "052 EPOCH - Training score : 0.12397 | Validation score : 0.10923 | Training loss : 143.50644 | Validation loss : 142.62079\n",
            "053 EPOCH - Training score : 0.12911 | Validation score : 0.10970 | Training loss : 143.57819 | Validation loss : 141.73530\n",
            "054 EPOCH - Training score : 0.12878 | Validation score : 0.10903 | Training loss : 143.21877 | Validation loss : 152.59288\n",
            "055 EPOCH - Training score : 0.13262 | Validation score : 0.10898 | Training loss : 143.04762 | Validation loss : 140.68334\n",
            "056 EPOCH - Training score : 0.13132 | Validation score : 0.10538 | Training loss : 143.84476 | Validation loss : 139.54192\n",
            "057 EPOCH - Training score : 0.12835 | Validation score : 0.11205 | Training loss : 142.51268 | Validation loss : 141.13730\n",
            "058 EPOCH - Training score : 0.13053 | Validation score : 0.10794 | Training loss : 142.98045 | Validation loss : 139.51584\n",
            "059 EPOCH - Training score : 0.12948 | Validation score : 0.10914 | Training loss : 142.87391 | Validation loss : 143.17110\n",
            "060 EPOCH - Training score : 0.13366 | Validation score : 0.10782 | Training loss : 142.79487 | Validation loss : 140.48909\n",
            "061 EPOCH - Training score : 0.13430 | Validation score : 0.10781 | Training loss : 143.26808 | Validation loss : 139.90961\n",
            "062 EPOCH - Training score : 0.13292 | Validation score : 0.10866 | Training loss : 142.39225 | Validation loss : 140.72187\n",
            "063 EPOCH - Training score : 0.13665 | Validation score : 0.10952 | Training loss : 143.33882 | Validation loss : 141.94081\n",
            "064 EPOCH - Training score : 0.13869 | Validation score : 0.10589 | Training loss : 143.11886 | Validation loss : 139.73572\n",
            "065 EPOCH - Training score : 0.13919 | Validation score : 0.10611 | Training loss : 141.85442 | Validation loss : 140.58895\n",
            "066 EPOCH - Training score : 0.13849 | Validation score : 0.10618 | Training loss : 142.37043 | Validation loss : 139.96938\n",
            "067 EPOCH - Training score : 0.13788 | Validation score : 0.10787 | Training loss : 142.40355 | Validation loss : 141.05855\n",
            "068 EPOCH - Training score : 0.14143 | Validation score : 0.10709 | Training loss : 143.15359 | Validation loss : 141.99857\n",
            "069 EPOCH - Training score : 0.14073 | Validation score : 0.10831 | Training loss : 142.37575 | Validation loss : 139.58147\n",
            "070 EPOCH - Training score : 0.14128 | Validation score : 0.10961 | Training loss : 141.65859 | Validation loss : 139.64072\n",
            "071 EPOCH - Training score : 0.14113 | Validation score : 0.10618 | Training loss : 141.99603 | Validation loss : 141.90240\n",
            "072 EPOCH - Training score : 0.13870 | Validation score : 0.11056 | Training loss : 142.17124 | Validation loss : 140.25099\n",
            "073 EPOCH - Training score : 0.13919 | Validation score : 0.10667 | Training loss : 144.15710 | Validation loss : 139.46803\n",
            "074 EPOCH - Training score : 0.14506 | Validation score : 0.11209 | Training loss : 142.66308 | Validation loss : 144.57716\n",
            "075 EPOCH - Training score : 0.14484 | Validation score : 0.10809 | Training loss : 141.88604 | Validation loss : 139.92889\n",
            "076 EPOCH - Training score : 0.14652 | Validation score : 0.10922 | Training loss : 141.77680 | Validation loss : 139.62846\n",
            "077 EPOCH - Training score : 0.14560 | Validation score : 0.10722 | Training loss : 141.95506 | Validation loss : 142.78480\n",
            "078 EPOCH - Training score : 0.14646 | Validation score : 0.10920 | Training loss : 141.72781 | Validation loss : 143.55214\n",
            "079 EPOCH - Training score : 0.14666 | Validation score : 0.10971 | Training loss : 141.65785 | Validation loss : 139.93342\n",
            "080 EPOCH - Training score : 0.14864 | Validation score : 0.11112 | Training loss : 142.44745 | Validation loss : 140.19141\n",
            "081 EPOCH - Training score : 0.15135 | Validation score : 0.11360 | Training loss : 141.85685 | Validation loss : 142.55751\n",
            "082 EPOCH - Training score : 0.14895 | Validation score : 0.11467 | Training loss : 141.63615 | Validation loss : 139.66708\n",
            "083 EPOCH - Training score : 0.14977 | Validation score : 0.11358 | Training loss : 141.39995 | Validation loss : 139.63989\n",
            "084 EPOCH - Training score : 0.15095 | Validation score : 0.11364 | Training loss : 141.76009 | Validation loss : 139.75274\n",
            "085 EPOCH - Training score : 0.15432 | Validation score : 0.11472 | Training loss : 141.32321 | Validation loss : 139.29578\n",
            "086 EPOCH - Training score : 0.15145 | Validation score : 0.11786 | Training loss : 141.58282 | Validation loss : 139.81634\n",
            "087 EPOCH - Training score : 0.15158 | Validation score : 0.11639 | Training loss : 141.78806 | Validation loss : 139.30909\n",
            "088 EPOCH - Training score : 0.15164 | Validation score : 0.11641 | Training loss : 141.51749 | Validation loss : 142.68834\n",
            "089 EPOCH - Training score : 0.15490 | Validation score : 0.11825 | Training loss : 140.88701 | Validation loss : 139.26946\n",
            "090 EPOCH - Training score : 0.15694 | Validation score : 0.11909 | Training loss : 141.38080 | Validation loss : 139.10632\n",
            "091 EPOCH - Training score : 0.15584 | Validation score : 0.11822 | Training loss : 141.31730 | Validation loss : 139.20776\n",
            "092 EPOCH - Training score : 0.15286 | Validation score : 0.12009 | Training loss : 141.48915 | Validation loss : 140.97421\n",
            "093 EPOCH - Training score : 0.15397 | Validation score : 0.11841 | Training loss : 142.10564 | Validation loss : 138.99627\n",
            "094 EPOCH - Training score : 0.15585 | Validation score : 0.11880 | Training loss : 141.28116 | Validation loss : 139.16298\n",
            "095 EPOCH - Training score : 0.15712 | Validation score : 0.11954 | Training loss : 141.49724 | Validation loss : 139.03763\n",
            "096 EPOCH - Training score : 0.15726 | Validation score : 0.12003 | Training loss : 140.90193 | Validation loss : 142.50275\n",
            "097 EPOCH - Training score : 0.15569 | Validation score : 0.12019 | Training loss : 141.42898 | Validation loss : 141.40172\n",
            "098 EPOCH - Training score : 0.15883 | Validation score : 0.12204 | Training loss : 141.55932 | Validation loss : 139.49814\n",
            "099 EPOCH - Training score : 0.15893 | Validation score : 0.12405 | Training loss : 140.80003 | Validation loss : 140.47224\n",
            "100 EPOCH - Training score : 0.15870 | Validation score : 0.12480 | Training loss : 140.98212 | Validation loss : 144.26258\n"
          ]
        }
      ]
    },
    {
      "cell_type": "code",
      "source": [
        "import matplotlib.pyplot as plt\n",
        "\n",
        "plt.title('Losses Training Vs Validation')\n",
        "plt.xlabel('Epoch')\n",
        "plt.ylabel('Losses')\n",
        "plt.plot(training_losses_history, '-r')\n",
        "plt.plot(validation_losses_history, '-b')"
      ],
      "metadata": {
        "id": "XM3RP3oqe4ub",
        "outputId": "3f56edb7-6d0d-45f8-8de7-5133de306959",
        "colab": {
          "base_uri": "https://localhost:8080/",
          "height": 312
        }
      },
      "id": "XM3RP3oqe4ub",
      "execution_count": 254,
      "outputs": [
        {
          "output_type": "execute_result",
          "data": {
            "text/plain": [
              "[<matplotlib.lines.Line2D at 0x7ff4f3585b50>]"
            ]
          },
          "metadata": {},
          "execution_count": 254
        },
        {
          "output_type": "display_data",
          "data": {
            "text/plain": [
              "<Figure size 432x288 with 1 Axes>"
            ],
            "image/png": "[encoded data removed]"
          },
          "metadata": {
            "needs_background": "light"
          }
        }
      ]
    },
    {
      "cell_type": "code",
      "source": [
        "plt.title('Score Training Vs Validation')\n",
        "plt.xlabel('Epoch')\n",
        "plt.ylabel('Scores')\n",
        "plt.plot(training_score_history, '-r')\n",
        "plt.plot(validation_score_history, '-b')"
      ],
      "metadata": {
        "id": "Lo4SbI0ffgYM",
        "outputId": "255a2528-bb48-46e5-cee5-cc8836880a90",
        "colab": {
          "base_uri": "https://localhost:8080/",
          "height": 312
        }
      },
      "id": "Lo4SbI0ffgYM",
      "execution_count": 255,
      "outputs": [
        {
          "output_type": "execute_result",
          "data": {
            "text/plain": [
              "[<matplotlib.lines.Line2D at 0x7ff59043f910>]"
            ]
          },
          "metadata": {},
          "execution_count": 255
        },
        {
          "output_type": "display_data",
          "data": {
            "text/plain": [
              "<Figure size 432x288 with 1 Axes>"
            ],
            "image/png": "[encoded data removed]"
          },
          "metadata": {
            "needs_background": "light"
          }
        }
      ]
    },
    {
      "cell_type": "code",
      "source": [
        "def predections(dataloader):\n",
        "  test_tm_predictions = []\n",
        "  net.eval()\n",
        "  with torch.no_grad():\n",
        "    for img in dataloader:\n",
        "      img = img.to(device)\n",
        "      tm_prediction = net(img)\n",
        "      test_tm_predictions.append(tm_prediction.cpu().numpy())\n",
        "  return [tm.squeeze().tolist() for tm in test_tm_predictions]"
      ],
      "metadata": {
        "id": "aw4wKC-sUZWm"
      },
      "id": "aw4wKC-sUZWm",
      "execution_count": 256,
      "outputs": []
    },
    {
      "cell_type": "code",
      "source": [
        "tm = predections(test_loader)"
      ],
      "metadata": {
        "id": "G5T-IlHVT7yO"
      },
      "id": "G5T-IlHVT7yO",
      "execution_count": 257,
      "outputs": []
    },
    {
      "cell_type": "code",
      "source": [
        "df = pd.DataFrame({\"seq_id\":test_seq_id, \"tm\":tm })\n",
        "df"
      ],
      "metadata": {
        "colab": {
          "base_uri": "https://localhost:8080/",
          "height": 424
        },
        "id": "mPlARAuzWl3S",
        "outputId": "2e0b5ad0-4ea4-437d-980f-6498d02b39ba"
      },
      "id": "mPlARAuzWl3S",
      "execution_count": 258,
      "outputs": [
        {
          "output_type": "execute_result",
          "data": {
            "text/plain": [
              "      seq_id         tm\n",
              "0      31390  59.377304\n",
              "1      31391  59.369720\n",
              "2      31392  57.915466\n",
              "3      31393  58.700386\n",
              "4      31394  59.726692\n",
              "...      ...        ...\n",
              "2408   33798  59.255959\n",
              "2409   33799  59.255959\n",
              "2410   33800  59.255959\n",
              "2411   33801  59.255959\n",
              "2412   33802  59.255959\n",
              "\n",
              "[2413 rows x 2 columns]"
            ],
            "text/html": [
              "\n",
              "  <div id=\"df-642f1d78-9fc9-4173-b4e1-b3fc789d4330\">\n",
              "    <div class=\"colab-df-container\">\n",
              "      <div>\n",
              "<style scoped>\n",
              "    .dataframe tbody tr th:only-of-type {\n",
              "        vertical-align: middle;\n",
              "    }\n",
              "\n",
              "    .dataframe tbody tr th {\n",
              "        vertical-align: top;\n",
              "    }\n",
              "\n",
              "    .dataframe thead th {\n",
              "        text-align: right;\n",
              "    }\n",
              "</style>\n",
              "<table border=\"1\" class=\"dataframe\">\n",
              "  <thead>\n",
              "    <tr style=\"text-align: right;\">\n",
              "      <th></th>\n",
              "      <th>seq_id</th>\n",
              "      <th>tm</th>\n",
              "    </tr>\n",
              "  </thead>\n",
              "  <tbody>\n",
              "    <tr>\n",
              "      <th>0</th>\n",
              "      <td>31390</td>\n",
              "      <td>59.377304</td>\n",
              "    </tr>\n",
              "    <tr>\n",
              "      <th>1</th>\n",
              "      <td>31391</td>\n",
              "      <td>59.369720</td>\n",
              "    </tr>\n",
              "    <tr>\n",
              "      <th>2</th>\n",
              "      <td>31392</td>\n",
              "      <td>57.915466</td>\n",
              "    </tr>\n",
              "    <tr>\n",
              "      <th>3</th>\n",
              "      <td>31393</td>\n",
              "      <td>58.700386</td>\n",
              "    </tr>\n",
              "    <tr>\n",
              "      <th>4</th>\n",
              "      <td>31394</td>\n",
              "      <td>59.726692</td>\n",
              "    </tr>\n",
              "    <tr>\n",
              "      <th>...</th>\n",
              "      <td>...</td>\n",
              "      <td>...</td>\n",
              "    </tr>\n",
              "    <tr>\n",
              "      <th>2408</th>\n",
              "      <td>33798</td>\n",
              "      <td>59.255959</td>\n",
              "    </tr>\n",
              "    <tr>\n",
              "      <th>2409</th>\n",
              "      <td>33799</td>\n",
              "      <td>59.255959</td>\n",
              "    </tr>\n",
              "    <tr>\n",
              "      <th>2410</th>\n",
              "      <td>33800</td>\n",
              "      <td>59.255959</td>\n",
              "    </tr>\n",
              "    <tr>\n",
              "      <th>2411</th>\n",
              "      <td>33801</td>\n",
              "      <td>59.255959</td>\n",
              "    </tr>\n",
              "    <tr>\n",
              "      <th>2412</th>\n",
              "      <td>33802</td>\n",
              "      <td>59.255959</td>\n",
              "    </tr>\n",
              "  </tbody>\n",
              "</table>\n",
              "<p>2413 rows × 2 columns</p>\n",
              "</div>\n",
              "      <button class=\"colab-df-convert\" onclick=\"convertToInteractive('df-642f1d78-9fc9-4173-b4e1-b3fc789d4330')\"\n",
              "              title=\"Convert this dataframe to an interactive table.\"\n",
              "              style=\"display:none;\">\n",
              "        \n",
              "  <svg xmlns=\"http://www.w3.org/2000/svg\" height=\"24px\"viewBox=\"0 0 24 24\"\n",
              "       width=\"24px\">\n",
              "    <path d=\"M0 0h24v24H0V0z\" fill=\"none\"/>\n",
              "    <path d=\"M18.56 5.44l.94 2.06.94-2.06 2.06-.94-2.06-.94-.94-2.06-.94 2.06-2.06.94zm-11 1L8.5 8.5l.94-2.06 2.06-.94-2.06-.94L8.5 2.5l-.94 2.06-2.06.94zm10 10l.94 2.06.94-2.06 2.06-.94-2.06-.94-.94-2.06-.94 2.06-2.06.94z\"/><path d=\"M17.41 7.96l-1.37-1.37c-.4-.4-.92-.59-1.43-.59-.52 0-1.04.2-1.43.59L10.3 9.45l-7.72 7.72c-.78.78-.78 2.05 0 2.83L4 21.41c.39.39.9.59 1.41.59.51 0 1.02-.2 1.41-.59l7.78-7.78 2.81-2.81c.8-.78.8-2.07 0-2.86zM5.41 20L4 18.59l7.72-7.72 1.47 1.35L5.41 20z\"/>\n",
              "  </svg>\n",
              "      </button>\n",
              "      \n",
              "  <style>\n",
              "    .colab-df-container {\n",
              "      display:flex;\n",
              "      flex-wrap:wrap;\n",
              "      gap: 12px;\n",
              "    }\n",
              "\n",
              "    .colab-df-convert {\n",
              "      background-color: #E8F0FE;\n",
              "      border: none;\n",
              "      border-radius: 50%;\n",
              "      cursor: pointer;\n",
              "      display: none;\n",
              "      fill: #1967D2;\n",
              "      height: 32px;\n",
              "      padding: 0 0 0 0;\n",
              "      width: 32px;\n",
              "    }\n",
              "\n",
              "    .colab-df-convert:hover {\n",
              "      background-color: #E2EBFA;\n",
              "      box-shadow: 0px 1px 2px rgba(60, 64, 67, 0.3), 0px 1px 3px 1px rgba(60, 64, 67, 0.15);\n",
              "      fill: #174EA6;\n",
              "    }\n",
              "\n",
              "    [theme=dark] .colab-df-convert {\n",
              "      background-color: #3B4455;\n",
              "      fill: #D2E3FC;\n",
              "    }\n",
              "\n",
              "    [theme=dark] .colab-df-convert:hover {\n",
              "      background-color: #434B5C;\n",
              "      box-shadow: 0px 1px 3px 1px rgba(0, 0, 0, 0.15);\n",
              "      filter: drop-shadow(0px 1px 2px rgba(0, 0, 0, 0.3));\n",
              "      fill: #FFFFFF;\n",
              "    }\n",
              "  </style>\n",
              "\n",
              "      <script>\n",
              "        const buttonEl =\n",
              "          document.querySelector('#df-642f1d78-9fc9-4173-b4e1-b3fc789d4330 button.colab-df-convert');\n",
              "        buttonEl.style.display =\n",
              "          google.colab.kernel.accessAllowed ? 'block' : 'none';\n",
              "\n",
              "        async function convertToInteractive(key) {\n",
              "          const element = document.querySelector('#df-642f1d78-9fc9-4173-b4e1-b3fc789d4330');\n",
              "          const dataTable =\n",
              "            await google.colab.kernel.invokeFunction('convertToInteractive',\n",
              "                                                     [key], {});\n",
              "          if (!dataTable) return;\n",
              "\n",
              "          const docLinkHtml = 'Like what you see? Visit the ' +\n",
              "            '<a target=\"_blank\" href=https://colab.research.google.com/notebooks/data_table.ipynb>data table notebook</a>'\n",
              "            + ' to learn more about interactive tables.';\n",
              "          element.innerHTML = '';\n",
              "          dataTable['output_type'] = 'display_data';\n",
              "          await google.colab.output.renderOutput(dataTable, element);\n",
              "          const docLink = document.createElement('div');\n",
              "          docLink.innerHTML = docLinkHtml;\n",
              "          element.appendChild(docLink);\n",
              "        }\n",
              "      </script>\n",
              "    </div>\n",
              "  </div>\n",
              "  "
            ]
          },
          "metadata": {},
          "execution_count": 258
        }
      ]
    },
    {
      "cell_type": "code",
      "source": [
        "df.describe()[['tm']].transpose()"
      ],
      "metadata": {
        "id": "iPY0jWPdieek",
        "outputId": "9a789e63-f108-41ee-d816-08659818a308",
        "colab": {
          "base_uri": "https://localhost:8080/",
          "height": 81
        }
      },
      "id": "iPY0jWPdieek",
      "execution_count": 260,
      "outputs": [
        {
          "output_type": "execute_result",
          "data": {
            "text/plain": [
              "     count       mean       std        min        25%        50%        75%  \\\n",
              "tm  2413.0  59.211757  0.329793  57.249741  59.255959  59.255959  59.255959   \n",
              "\n",
              "          max  \n",
              "tm  61.920288  "
            ],
            "text/html": [
              "\n",
              "  <div id=\"df-3e112afc-f115-4ed6-bbbb-bd565f0f4d37\">\n",
              "    <div class=\"colab-df-container\">\n",
              "      <div>\n",
              "<style scoped>\n",
              "    .dataframe tbody tr th:only-of-type {\n",
              "        vertical-align: middle;\n",
              "    }\n",
              "\n",
              "    .dataframe tbody tr th {\n",
              "        vertical-align: top;\n",
              "    }\n",
              "\n",
              "    .dataframe thead th {\n",
              "        text-align: right;\n",
              "    }\n",
              "</style>\n",
              "<table border=\"1\" class=\"dataframe\">\n",
              "  <thead>\n",
              "    <tr style=\"text-align: right;\">\n",
              "      <th></th>\n",
              "      <th>count</th>\n",
              "      <th>mean</th>\n",
              "      <th>std</th>\n",
              "      <th>min</th>\n",
              "      <th>25%</th>\n",
              "      <th>50%</th>\n",
              "      <th>75%</th>\n",
              "      <th>max</th>\n",
              "    </tr>\n",
              "  </thead>\n",
              "  <tbody>\n",
              "    <tr>\n",
              "      <th>tm</th>\n",
              "      <td>2413.0</td>\n",
              "      <td>59.211757</td>\n",
              "      <td>0.329793</td>\n",
              "      <td>57.249741</td>\n",
              "      <td>59.255959</td>\n",
              "      <td>59.255959</td>\n",
              "      <td>59.255959</td>\n",
              "      <td>61.920288</td>\n",
              "    </tr>\n",
              "  </tbody>\n",
              "</table>\n",
              "</div>\n",
              "      <button class=\"colab-df-convert\" onclick=\"convertToInteractive('df-3e112afc-f115-4ed6-bbbb-bd565f0f4d37')\"\n",
              "              title=\"Convert this dataframe to an interactive table.\"\n",
              "              style=\"display:none;\">\n",
              "        \n",
              "  <svg xmlns=\"http://www.w3.org/2000/svg\" height=\"24px\"viewBox=\"0 0 24 24\"\n",
              "       width=\"24px\">\n",
              "    <path d=\"M0 0h24v24H0V0z\" fill=\"none\"/>\n",
              "    <path d=\"M18.56 5.44l.94 2.06.94-2.06 2.06-.94-2.06-.94-.94-2.06-.94 2.06-2.06.94zm-11 1L8.5 8.5l.94-2.06 2.06-.94-2.06-.94L8.5 2.5l-.94 2.06-2.06.94zm10 10l.94 2.06.94-2.06 2.06-.94-2.06-.94-.94-2.06-.94 2.06-2.06.94z\"/><path d=\"M17.41 7.96l-1.37-1.37c-.4-.4-.92-.59-1.43-.59-.52 0-1.04.2-1.43.59L10.3 9.45l-7.72 7.72c-.78.78-.78 2.05 0 2.83L4 21.41c.39.39.9.59 1.41.59.51 0 1.02-.2 1.41-.59l7.78-7.78 2.81-2.81c.8-.78.8-2.07 0-2.86zM5.41 20L4 18.59l7.72-7.72 1.47 1.35L5.41 20z\"/>\n",
              "  </svg>\n",
              "      </button>\n",
              "      \n",
              "  <style>\n",
              "    .colab-df-container {\n",
              "      display:flex;\n",
              "      flex-wrap:wrap;\n",
              "      gap: 12px;\n",
              "    }\n",
              "\n",
              "    .colab-df-convert {\n",
              "      background-color: #E8F0FE;\n",
              "      border: none;\n",
              "      border-radius: 50%;\n",
              "      cursor: pointer;\n",
              "      display: none;\n",
              "      fill: #1967D2;\n",
              "      height: 32px;\n",
              "      padding: 0 0 0 0;\n",
              "      width: 32px;\n",
              "    }\n",
              "\n",
              "    .colab-df-convert:hover {\n",
              "      background-color: #E2EBFA;\n",
              "      box-shadow: 0px 1px 2px rgba(60, 64, 67, 0.3), 0px 1px 3px 1px rgba(60, 64, 67, 0.15);\n",
              "      fill: #174EA6;\n",
              "    }\n",
              "\n",
              "    [theme=dark] .colab-df-convert {\n",
              "      background-color: #3B4455;\n",
              "      fill: #D2E3FC;\n",
              "    }\n",
              "\n",
              "    [theme=dark] .colab-df-convert:hover {\n",
              "      background-color: #434B5C;\n",
              "      box-shadow: 0px 1px 3px 1px rgba(0, 0, 0, 0.15);\n",
              "      filter: drop-shadow(0px 1px 2px rgba(0, 0, 0, 0.3));\n",
              "      fill: #FFFFFF;\n",
              "    }\n",
              "  </style>\n",
              "\n",
              "      <script>\n",
              "        const buttonEl =\n",
              "          document.querySelector('#df-3e112afc-f115-4ed6-bbbb-bd565f0f4d37 button.colab-df-convert');\n",
              "        buttonEl.style.display =\n",
              "          google.colab.kernel.accessAllowed ? 'block' : 'none';\n",
              "\n",
              "        async function convertToInteractive(key) {\n",
              "          const element = document.querySelector('#df-3e112afc-f115-4ed6-bbbb-bd565f0f4d37');\n",
              "          const dataTable =\n",
              "            await google.colab.kernel.invokeFunction('convertToInteractive',\n",
              "                                                     [key], {});\n",
              "          if (!dataTable) return;\n",
              "\n",
              "          const docLinkHtml = 'Like what you see? Visit the ' +\n",
              "            '<a target=\"_blank\" href=https://colab.research.google.com/notebooks/data_table.ipynb>data table notebook</a>'\n",
              "            + ' to learn more about interactive tables.';\n",
              "          element.innerHTML = '';\n",
              "          dataTable['output_type'] = 'display_data';\n",
              "          await google.colab.output.renderOutput(dataTable, element);\n",
              "          const docLink = document.createElement('div');\n",
              "          docLink.innerHTML = docLinkHtml;\n",
              "          element.appendChild(docLink);\n",
              "        }\n",
              "      </script>\n",
              "    </div>\n",
              "  </div>\n",
              "  "
            ]
          },
          "metadata": {},
          "execution_count": 260
        }
      ]
    },
    {
      "cell_type": "code",
      "source": [
        "df.to_csv(\"submission.csv\", index=False)"
      ],
      "metadata": {
        "id": "fVk3q7seW-6g"
      },
      "id": "fVk3q7seW-6g",
      "execution_count": 126,
      "outputs": []
    }
  ],
  "metadata": {
    "kernelspec": {
      "display_name": "Python 3 (ipykernel)",
      "language": "python",
      "name": "python3"
    },
    "language_info": {
      "codemirror_mode": {
        "name": "ipython",
        "version": 3
      },
      "file_extension": ".py",
      "mimetype": "text/x-python",
      "name": "python",
      "nbconvert_exporter": "python",
      "pygments_lexer": "ipython3",
      "version": "3.9.12"
    },
    "colab": {
      "provenance": [],
      "include_colab_link": true
    },
    "accelerator": "GPU",
    "gpuClass": "standard"
  },
  "nbformat": 4,
  "nbformat_minor": 5
}