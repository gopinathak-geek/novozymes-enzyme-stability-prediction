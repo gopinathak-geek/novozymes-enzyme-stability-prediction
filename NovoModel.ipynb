{
  "cells": [
    {
      "cell_type": "markdown",
      "metadata": {
        "id": "view-in-github",
        "colab_type": "text"
      },
      "source": [
        "<a href=\"https://colab.research.google.com/github/gopinathak-geek/novozymes-enzyme-stability-prediction/blob/main/NovoModel.ipynb\" target=\"_parent\"><img src=\"https://colab.research.google.com/assets/colab-badge.svg\" alt=\"Open In Colab\"/></a>"
      ]
    },
    {
      "cell_type": "code",
      "source": [
        "import numpy as np\n",
        "import pandas as pd"
      ],
      "metadata": {
        "id": "4d77B_4K-WEa"
      },
      "id": "4d77B_4K-WEa",
      "execution_count": 1,
      "outputs": []
    },
    {
      "cell_type": "code",
      "source": [
        "train_csv = \"https://raw.githubusercontent.com/gopinathak-geek/novozymes-enzyme-stability-prediction/main/data/train.csv\"\n",
        "train_updates_csv = \"https://raw.githubusercontent.com/gopinathak-geek/novozymes-enzyme-stability-prediction/main/data/train_updates_20220929.csv\"\n",
        "test_csv = \"https://raw.githubusercontent.com/gopinathak-geek/novozymes-enzyme-stability-prediction/main/data/test.csv\"\n",
        "\n",
        "train_df = pd.read_csv(train_csv)\n",
        "train_updates_df = pd.read_csv(train_updates_csv)\n",
        "test_df = pd.read_csv(test_csv)"
      ],
      "metadata": {
        "id": "gYfw_qcJ-Vn6"
      },
      "id": "gYfw_qcJ-Vn6",
      "execution_count": 2,
      "outputs": []
    },
    {
      "cell_type": "code",
      "source": [
        "seq_ids_to_delete = train_updates_df[train_updates_df[\"pH\"].isnull()][\"seq_id\"].values\n",
        "seq_ids_to_replace = train_updates_df[train_updates_df[\"pH\"].notnull()][\"seq_id\"].values"
      ],
      "metadata": {
        "id": "Ke7mXRdaBReJ"
      },
      "id": "Ke7mXRdaBReJ",
      "execution_count": 3,
      "outputs": []
    },
    {
      "cell_type": "code",
      "source": [
        "train_df.drop(train_df[train_df.seq_id.isin(seq_ids_to_delete)].index, inplace=True)"
      ],
      "metadata": {
        "id": "2zG_1deSDAGh"
      },
      "id": "2zG_1deSDAGh",
      "execution_count": 4,
      "outputs": []
    },
    {
      "cell_type": "code",
      "source": [
        "train_df.loc[train_df.seq_id.isin(seq_ids_to_replace), [\"pH\", \"tm\"]] = train_updates_df[train_updates_df.seq_id.isin(seq_ids_to_replace)][[\"pH\", \"tm\"]].values"
      ],
      "metadata": {
        "id": "eih_dNqHEf1K"
      },
      "id": "eih_dNqHEf1K",
      "execution_count": 5,
      "outputs": []
    },
    {
      "cell_type": "code",
      "source": [
        "null_seq_ids = train_df[train_df[\"pH\"].isnull()][\"seq_id\"].values"
      ],
      "metadata": {
        "id": "03MFJ4uyGleN"
      },
      "id": "03MFJ4uyGleN",
      "execution_count": 6,
      "outputs": []
    },
    {
      "cell_type": "code",
      "source": [
        "train_df.drop(train_df[train_df.seq_id.isin(null_seq_ids)].index, inplace=True)"
      ],
      "metadata": {
        "id": "WHn4jmfTHA13"
      },
      "id": "WHn4jmfTHA13",
      "execution_count": 7,
      "outputs": []
    },
    {
      "cell_type": "code",
      "source": [
        "train_df.info(verbose=True)"
      ],
      "metadata": {
        "id": "82mqBJxuHJZd",
        "outputId": "751524dd-793b-48f4-c25d-4e2e981aa7f3",
        "colab": {
          "base_uri": "https://localhost:8080/"
        }
      },
      "id": "82mqBJxuHJZd",
      "execution_count": 8,
      "outputs": [
        {
          "output_type": "stream",
          "name": "stdout",
          "text": [
            "<class 'pandas.core.frame.DataFrame'>\n",
            "Int64Index: 28695 entries, 0 to 31389\n",
            "Data columns (total 5 columns):\n",
            " #   Column            Non-Null Count  Dtype  \n",
            "---  ------            --------------  -----  \n",
            " 0   seq_id            28695 non-null  int64  \n",
            " 1   protein_sequence  28695 non-null  object \n",
            " 2   pH                28695 non-null  float64\n",
            " 3   data_source       27727 non-null  object \n",
            " 4   tm                28695 non-null  float64\n",
            "dtypes: float64(2), int64(1), object(2)\n",
            "memory usage: 1.3+ MB\n"
          ]
        }
      ]
    },
    {
      "cell_type": "code",
      "source": [
        "train_df.describe().transpose()\n"
      ],
      "metadata": {
        "id": "K8OXYPkCJqHK",
        "outputId": "b2bccc3f-8baf-4a25-f3ab-45c951f294d7",
        "colab": {
          "base_uri": "https://localhost:8080/",
          "height": 143
        }
      },
      "id": "K8OXYPkCJqHK",
      "execution_count": 9,
      "outputs": [
        {
          "output_type": "execute_result",
          "data": {
            "text/plain": [
              "          count          mean          std    min     25%      50%      75%  \\\n",
              "seq_id  28695.0  15631.432166  9235.099078   0.00  7447.5  15443.0  23758.5   \n",
              "pH      28695.0      6.872467     0.793184   1.99     7.0      7.0      7.0   \n",
              "tm      28695.0     51.385604    12.076609  25.10    43.7     48.8     54.6   \n",
              "\n",
              "            max  \n",
              "seq_id  31389.0  \n",
              "pH         11.0  \n",
              "tm        130.0  "
            ],
            "text/html": [
              "\n",
              "  <div id=\"df-4df65008-9d91-426a-b980-0d5ce07057c6\">\n",
              "    <div class=\"colab-df-container\">\n",
              "      <div>\n",
              "<style scoped>\n",
              "    .dataframe tbody tr th:only-of-type {\n",
              "        vertical-align: middle;\n",
              "    }\n",
              "\n",
              "    .dataframe tbody tr th {\n",
              "        vertical-align: top;\n",
              "    }\n",
              "\n",
              "    .dataframe thead th {\n",
              "        text-align: right;\n",
              "    }\n",
              "</style>\n",
              "<table border=\"1\" class=\"dataframe\">\n",
              "  <thead>\n",
              "    <tr style=\"text-align: right;\">\n",
              "      <th></th>\n",
              "      <th>count</th>\n",
              "      <th>mean</th>\n",
              "      <th>std</th>\n",
              "      <th>min</th>\n",
              "      <th>25%</th>\n",
              "      <th>50%</th>\n",
              "      <th>75%</th>\n",
              "      <th>max</th>\n",
              "    </tr>\n",
              "  </thead>\n",
              "  <tbody>\n",
              "    <tr>\n",
              "      <th>seq_id</th>\n",
              "      <td>28695.0</td>\n",
              "      <td>15631.432166</td>\n",
              "      <td>9235.099078</td>\n",
              "      <td>0.00</td>\n",
              "      <td>7447.5</td>\n",
              "      <td>15443.0</td>\n",
              "      <td>23758.5</td>\n",
              "      <td>31389.0</td>\n",
              "    </tr>\n",
              "    <tr>\n",
              "      <th>pH</th>\n",
              "      <td>28695.0</td>\n",
              "      <td>6.872467</td>\n",
              "      <td>0.793184</td>\n",
              "      <td>1.99</td>\n",
              "      <td>7.0</td>\n",
              "      <td>7.0</td>\n",
              "      <td>7.0</td>\n",
              "      <td>11.0</td>\n",
              "    </tr>\n",
              "    <tr>\n",
              "      <th>tm</th>\n",
              "      <td>28695.0</td>\n",
              "      <td>51.385604</td>\n",
              "      <td>12.076609</td>\n",
              "      <td>25.10</td>\n",
              "      <td>43.7</td>\n",
              "      <td>48.8</td>\n",
              "      <td>54.6</td>\n",
              "      <td>130.0</td>\n",
              "    </tr>\n",
              "  </tbody>\n",
              "</table>\n",
              "</div>\n",
              "      <button class=\"colab-df-convert\" onclick=\"convertToInteractive('df-4df65008-9d91-426a-b980-0d5ce07057c6')\"\n",
              "              title=\"Convert this dataframe to an interactive table.\"\n",
              "              style=\"display:none;\">\n",
              "        \n",
              "  <svg xmlns=\"http://www.w3.org/2000/svg\" height=\"24px\"viewBox=\"0 0 24 24\"\n",
              "       width=\"24px\">\n",
              "    <path d=\"M0 0h24v24H0V0z\" fill=\"none\"/>\n",
              "    <path d=\"M18.56 5.44l.94 2.06.94-2.06 2.06-.94-2.06-.94-.94-2.06-.94 2.06-2.06.94zm-11 1L8.5 8.5l.94-2.06 2.06-.94-2.06-.94L8.5 2.5l-.94 2.06-2.06.94zm10 10l.94 2.06.94-2.06 2.06-.94-2.06-.94-.94-2.06-.94 2.06-2.06.94z\"/><path d=\"M17.41 7.96l-1.37-1.37c-.4-.4-.92-.59-1.43-.59-.52 0-1.04.2-1.43.59L10.3 9.45l-7.72 7.72c-.78.78-.78 2.05 0 2.83L4 21.41c.39.39.9.59 1.41.59.51 0 1.02-.2 1.41-.59l7.78-7.78 2.81-2.81c.8-.78.8-2.07 0-2.86zM5.41 20L4 18.59l7.72-7.72 1.47 1.35L5.41 20z\"/>\n",
              "  </svg>\n",
              "      </button>\n",
              "      \n",
              "  <style>\n",
              "    .colab-df-container {\n",
              "      display:flex;\n",
              "      flex-wrap:wrap;\n",
              "      gap: 12px;\n",
              "    }\n",
              "\n",
              "    .colab-df-convert {\n",
              "      background-color: #E8F0FE;\n",
              "      border: none;\n",
              "      border-radius: 50%;\n",
              "      cursor: pointer;\n",
              "      display: none;\n",
              "      fill: #1967D2;\n",
              "      height: 32px;\n",
              "      padding: 0 0 0 0;\n",
              "      width: 32px;\n",
              "    }\n",
              "\n",
              "    .colab-df-convert:hover {\n",
              "      background-color: #E2EBFA;\n",
              "      box-shadow: 0px 1px 2px rgba(60, 64, 67, 0.3), 0px 1px 3px 1px rgba(60, 64, 67, 0.15);\n",
              "      fill: #174EA6;\n",
              "    }\n",
              "\n",
              "    [theme=dark] .colab-df-convert {\n",
              "      background-color: #3B4455;\n",
              "      fill: #D2E3FC;\n",
              "    }\n",
              "\n",
              "    [theme=dark] .colab-df-convert:hover {\n",
              "      background-color: #434B5C;\n",
              "      box-shadow: 0px 1px 3px 1px rgba(0, 0, 0, 0.15);\n",
              "      filter: drop-shadow(0px 1px 2px rgba(0, 0, 0, 0.3));\n",
              "      fill: #FFFFFF;\n",
              "    }\n",
              "  </style>\n",
              "\n",
              "      <script>\n",
              "        const buttonEl =\n",
              "          document.querySelector('#df-4df65008-9d91-426a-b980-0d5ce07057c6 button.colab-df-convert');\n",
              "        buttonEl.style.display =\n",
              "          google.colab.kernel.accessAllowed ? 'block' : 'none';\n",
              "\n",
              "        async function convertToInteractive(key) {\n",
              "          const element = document.querySelector('#df-4df65008-9d91-426a-b980-0d5ce07057c6');\n",
              "          const dataTable =\n",
              "            await google.colab.kernel.invokeFunction('convertToInteractive',\n",
              "                                                     [key], {});\n",
              "          if (!dataTable) return;\n",
              "\n",
              "          const docLinkHtml = 'Like what you see? Visit the ' +\n",
              "            '<a target=\"_blank\" href=https://colab.research.google.com/notebooks/data_table.ipynb>data table notebook</a>'\n",
              "            + ' to learn more about interactive tables.';\n",
              "          element.innerHTML = '';\n",
              "          dataTable['output_type'] = 'display_data';\n",
              "          await google.colab.output.renderOutput(dataTable, element);\n",
              "          const docLink = document.createElement('div');\n",
              "          docLink.innerHTML = docLinkHtml;\n",
              "          element.appendChild(docLink);\n",
              "        }\n",
              "      </script>\n",
              "    </div>\n",
              "  </div>\n",
              "  "
            ]
          },
          "metadata": {},
          "execution_count": 9
        }
      ]
    },
    {
      "cell_type": "code",
      "execution_count": 10,
      "id": "c433f364",
      "metadata": {
        "id": "c433f364",
        "colab": {
          "base_uri": "https://localhost:8080/"
        },
        "outputId": "b2193d0b-2e56-4cb5-fbd9-823b2c023574"
      },
      "outputs": [
        {
          "output_type": "stream",
          "name": "stdout",
          "text": [
            "3.7.15 (default, Oct 12 2022, 19:14:55) \n",
            "[GCC 7.5.0]\n"
          ]
        }
      ],
      "source": [
        "import sys\n",
        "print (sys.version)\n"
      ]
    },
    {
      "cell_type": "code",
      "source": [
        "import torch\n",
        "import random\n",
        "from torch.utils.data import Dataset, DataLoader\n",
        "import torch.nn as nn\n",
        "import torch.nn.functional as F\n",
        "import torch.optim as optim\n",
        "from scipy import stats\n",
        "import torchvision.transforms as T\n"
      ],
      "metadata": {
        "id": "4s1FXTYEKB_5"
      },
      "id": "4s1FXTYEKB_5",
      "execution_count": 11,
      "outputs": []
    },
    {
      "cell_type": "code",
      "source": [
        "def getMolecularWeight(aminoacid):\n",
        "  if aminoacid == \"A\": return 89\n",
        "  elif aminoacid == \"R\": return 174\n",
        "  elif aminoacid == \"N\": return 132\n",
        "  elif aminoacid == \"D\": return 133\n",
        "  elif aminoacid == \"B\": return 133\n",
        "  elif aminoacid == \"C\": return 121\n",
        "  elif aminoacid == \"Q\": return 146\n",
        "  elif aminoacid == \"E\": return 147\n",
        "  elif aminoacid == \"Z\": return 147\n",
        "  elif aminoacid == \"G\": return 75\n",
        "  elif aminoacid == \"H\": return 155\n",
        "  elif aminoacid == \"I\": return 131\n",
        "  elif aminoacid == \"L\": return 131\n",
        "  elif aminoacid == \"K\": return 146\n",
        "  elif aminoacid == \"M\": return 149\n",
        "  elif aminoacid == \"F\": return 165\n",
        "  elif aminoacid == \"P\": return 115\n",
        "  elif aminoacid == \"S\": return 105\n",
        "  elif aminoacid == \"T\": return 119\n",
        "  elif aminoacid == \"W\": return 204\n",
        "  elif aminoacid == \"Y\": return 181\n",
        "  elif aminoacid == \"V\": return 117\n",
        "  else: return 0"
      ],
      "metadata": {
        "id": "8FGtnDup0hih"
      },
      "id": "8FGtnDup0hih",
      "execution_count": 12,
      "outputs": []
    },
    {
      "cell_type": "code",
      "source": [
        "def proteinSequenceToAmioAcidMolecularWeightWithPh(data):\n",
        "  amionAcidSequence = []\n",
        "  img = []\n",
        "  label = []\n",
        "  for index, row in data.iterrows():\n",
        "    ph = row['pH']\n",
        "    tm = row['tm']\n",
        "    molecularWeightOfAminoAcidInSequence = []\n",
        "    pHofProteinSequence = []\n",
        "    for aminoacid in (row['protein_sequence']):\n",
        "      molecularWeight = getMolecularWeight(aminoacid)\n",
        "      molecularWeightOfAminoAcidInSequence.append(molecularWeight/110)\n",
        "      pHofProteinSequence.append(ph)\n",
        "    #a = torch.FloatTensor(np.array([molecularWeightOfAminoAcidInSequence,pHofProteinSequence]))\n",
        "    #a = a[None, :]\n",
        "    #a = preprocess(np.array([molecularWeightOfAminoAcidInSequence,pHofProteinSequence]))\n",
        "    a = np.array([molecularWeightOfAminoAcidInSequence,pHofProteinSequence])\n",
        "    a = a[None, :]\n",
        "    img.append(a)\n",
        "    label.append(tm)\n",
        "    #amionAcidSequence.append((a, tm))\n",
        "    #break\n",
        "  return [img, label]"
      ],
      "metadata": {
        "id": "fNcUi7YViuDN"
      },
      "id": "fNcUi7YViuDN",
      "execution_count": 13,
      "outputs": []
    },
    {
      "cell_type": "code",
      "source": [
        "img, label = proteinSequenceToAmioAcidMolecularWeightWithPh(train_df)"
      ],
      "metadata": {
        "id": "kSiRJhI10q4K"
      },
      "id": "kSiRJhI10q4K",
      "execution_count": 14,
      "outputs": []
    },
    {
      "cell_type": "code",
      "source": [
        "import torchvision.transforms as T\n",
        "from PIL import Image\n",
        "\n",
        "preprocess = T.Compose([\n",
        "   T.Resize((2,10)),\n",
        "])\n",
        "\n",
        "def change_shape(data):\n",
        "    torch_img = []\n",
        "    for im in (data):\n",
        "        im = torch.FloatTensor(im)\n",
        "        #transform = T.ToPILImage()\n",
        "        #img = transform(im)\n",
        "        x = preprocess(im)\n",
        "        x = x.cpu().detach().numpy()\n",
        "        torch_img.append(x)\n",
        "    return torch_img"
      ],
      "metadata": {
        "id": "qm9aJqhKqvcB"
      },
      "id": "qm9aJqhKqvcB",
      "execution_count": 15,
      "outputs": []
    },
    {
      "cell_type": "code",
      "source": [
        "img = change_shape(img)"
      ],
      "metadata": {
        "id": "Giam_-nbtRdI"
      },
      "id": "Giam_-nbtRdI",
      "execution_count": 16,
      "outputs": []
    },
    {
      "cell_type": "code",
      "source": [
        "class TrainData(Dataset):\n",
        "    \n",
        "    def __init__(self, X_data, y_data):\n",
        "        self.X_data = X_data\n",
        "        self.y_data = y_data\n",
        "        \n",
        "    def __getitem__(self, index):\n",
        "        return self.X_data[index], self.y_data[index]\n",
        "        \n",
        "    def __len__ (self):\n",
        "        return len(self.X_data)"
      ],
      "metadata": {
        "id": "x3HsMHGetXdu"
      },
      "id": "x3HsMHGetXdu",
      "execution_count": 17,
      "outputs": []
    },
    {
      "cell_type": "code",
      "source": [
        "train_data = TrainData(torch.FloatTensor(img), torch.FloatTensor(label))"
      ],
      "metadata": {
        "id": "VJJiBNjStcik",
        "outputId": "2b423cf7-d97f-4fbb-a675-aef0b12d30e1",
        "colab": {
          "base_uri": "https://localhost:8080/"
        }
      },
      "id": "VJJiBNjStcik",
      "execution_count": 18,
      "outputs": [
        {
          "output_type": "stream",
          "name": "stderr",
          "text": [
            "/usr/local/lib/python3.7/dist-packages/ipykernel_launcher.py:1: UserWarning: Creating a tensor from a list of numpy.ndarrays is extremely slow. Please consider converting the list to a single numpy.ndarray with numpy.array() before converting to a tensor. (Triggered internally at  ../torch/csrc/utils/tensor_new.cpp:201.)\n",
            "  \"\"\"Entry point for launching an IPython kernel.\n"
          ]
        }
      ]
    },
    {
      "cell_type": "code",
      "source": [
        "BATCH_SIZE = 128\n",
        "train_loader = DataLoader(dataset=train_data, batch_size=BATCH_SIZE, shuffle=True)"
      ],
      "metadata": {
        "id": "1YsmqiJ1tg6F"
      },
      "id": "1YsmqiJ1tg6F",
      "execution_count": 19,
      "outputs": []
    },
    {
      "cell_type": "code",
      "source": [
        "class NovoNet(nn.Module):\n",
        "    def __init__(self, name=None):\n",
        "        super(NovoNet, self).__init__()\n",
        "        if name:\n",
        "            self.name = name\n",
        "        self.conv1 = nn.Conv2d(1, 10, 2) \n",
        "        #self.pool = nn.MaxPool2d((3, 2), stride=(2, 2))\n",
        "        self.fc1 = nn.Linear(10 * 9 * 1, 120)\n",
        "        self.fc2 = nn.Linear(120, 84)\n",
        "        self.fc3 = nn.Linear(84, 1)\n",
        "        \n",
        "        # compute the total number of parameters\n",
        "        total_params = sum(p.numel() for p in self.parameters() if p.requires_grad)\n",
        "        print(self.name + ': total params:', total_params)\n",
        "\n",
        "    def forward(self, x):\n",
        "        x = F.relu(self.conv1(x))\n",
        "        x = x.view(-1, 9 * 1 * 10)\n",
        "        x = F.relu(self.fc1(x))\n",
        "        x = F.relu(self.fc2(x))\n",
        "        x = self.fc3(x)\n",
        "        return x"
      ],
      "metadata": {
        "id": "MfxUh2yKY2zA"
      },
      "id": "MfxUh2yKY2zA",
      "execution_count": 20,
      "outputs": []
    },
    {
      "cell_type": "code",
      "source": [
        "device = torch.device(\"cuda:0\" if torch.cuda.is_available() else \"cpu\")\n",
        "print(device)"
      ],
      "metadata": {
        "id": "PVIkJdWGfRwN",
        "outputId": "a0be0636-89e4-4b29-f9ae-6b83f8fd798e",
        "colab": {
          "base_uri": "https://localhost:8080/"
        }
      },
      "id": "PVIkJdWGfRwN",
      "execution_count": 21,
      "outputs": [
        {
          "output_type": "stream",
          "name": "stdout",
          "text": [
            "cpu\n"
          ]
        }
      ]
    },
    {
      "cell_type": "code",
      "source": [
        "net = NovoNet(name='Novonet')\n",
        "net.to(device)"
      ],
      "metadata": {
        "id": "19skUICLfi4h",
        "outputId": "4ad10070-786f-49f4-9c15-98500e61e77d",
        "colab": {
          "base_uri": "https://localhost:8080/"
        }
      },
      "id": "19skUICLfi4h",
      "execution_count": 22,
      "outputs": [
        {
          "output_type": "stream",
          "name": "stdout",
          "text": [
            "Novonet: total params: 21219\n"
          ]
        },
        {
          "output_type": "execute_result",
          "data": {
            "text/plain": [
              "NovoNet(\n",
              "  (conv1): Conv2d(1, 10, kernel_size=(2, 2), stride=(1, 1))\n",
              "  (fc1): Linear(in_features=90, out_features=120, bias=True)\n",
              "  (fc2): Linear(in_features=120, out_features=84, bias=True)\n",
              "  (fc3): Linear(in_features=84, out_features=1, bias=True)\n",
              ")"
            ]
          },
          "metadata": {},
          "execution_count": 22
        }
      ]
    },
    {
      "cell_type": "code",
      "source": [
        "LEARNING_RATE = 0.001\n",
        "criterion = nn.MSELoss()\n",
        "optimizer = torch.optim.Adam(net.parameters(), lr=LEARNING_RATE)"
      ],
      "metadata": {
        "id": "LjG-TnyJfz3t"
      },
      "id": "LjG-TnyJfz3t",
      "execution_count": 23,
      "outputs": []
    },
    {
      "cell_type": "code",
      "source": [
        "EPOCHS = 50\n",
        "for epoch in range(EPOCHS):\n",
        "    net.train()\n",
        "    score = []\n",
        "    for img, label in train_loader:\n",
        "        img, label = img.to(device), label.to(device)\n",
        "        label = label.unsqueeze(1)\n",
        "    \n",
        "        #==========Forward pass===============\n",
        "        preds = net(img)\n",
        "        loss = criterion(preds, label)\n",
        "        #==========backward pass==============\n",
        "\n",
        "        optimizer.zero_grad()\n",
        "        loss.backward()\n",
        "        optimizer.step()\n",
        "\n",
        "\n",
        "        a = stats.spearmanr(preds.detach().cpu().numpy(), label.cpu().numpy())\n",
        "        score.append(a.correlation)\n",
        "    print(f'EPOCH score {epoch+1}: {np.mean(score)}')"
      ],
      "metadata": {
        "id": "HNVSaAcagZJl",
        "outputId": "940ac59c-d12f-4b98-972b-90836706fe80",
        "colab": {
          "base_uri": "https://localhost:8080/"
        }
      },
      "id": "HNVSaAcagZJl",
      "execution_count": 25,
      "outputs": [
        {
          "output_type": "stream",
          "name": "stdout",
          "text": [
            "EPOCH score 1: -0.006740705119932366\n",
            "EPOCH score 2: -0.004746099348018418\n",
            "EPOCH score 3: -0.0032117921389270437\n",
            "EPOCH score 4: 0.00278792796898146\n",
            "EPOCH score 5: 0.010262915896133594\n",
            "EPOCH score 6: 0.017350019560169686\n",
            "EPOCH score 7: 0.019670353177218113\n",
            "EPOCH score 8: 0.02656837279040166\n",
            "EPOCH score 9: 0.028916767049756657\n",
            "EPOCH score 10: 0.03834582297978721\n",
            "EPOCH score 11: 0.02849126904400921\n",
            "EPOCH score 12: 0.04012897302448542\n",
            "EPOCH score 13: 0.040158672146822595\n",
            "EPOCH score 14: 0.04614890139092245\n",
            "EPOCH score 15: 0.05169938365611503\n",
            "EPOCH score 16: 0.04994604428102583\n",
            "EPOCH score 17: 0.054001227542843346\n",
            "EPOCH score 18: 0.05697194133792863\n",
            "EPOCH score 19: 0.05808885403009493\n",
            "EPOCH score 20: 0.05913737204208473\n",
            "EPOCH score 21: 0.060895382255598304\n",
            "EPOCH score 22: 0.06476353311997106\n",
            "EPOCH score 23: 0.06358441033241967\n",
            "EPOCH score 24: 0.06288966262435965\n",
            "EPOCH score 25: 0.06489588911991771\n",
            "EPOCH score 26: 0.07085516027737593\n",
            "EPOCH score 27: 0.06738408229710134\n",
            "EPOCH score 28: 0.06915424747236311\n",
            "EPOCH score 29: 0.07060536031700143\n",
            "EPOCH score 30: 0.07173628384483374\n",
            "EPOCH score 31: 0.07393304843992231\n",
            "EPOCH score 32: 0.07409347963868768\n",
            "EPOCH score 33: 0.0724804681758878\n",
            "EPOCH score 34: 0.07526076645977443\n",
            "EPOCH score 35: 0.07385349643777785\n",
            "EPOCH score 36: 0.081359786611361\n",
            "EPOCH score 37: 0.07856669902084519\n",
            "EPOCH score 38: 0.0802823658986793\n",
            "EPOCH score 39: 0.08370404450009726\n",
            "EPOCH score 40: 0.08621712447095127\n",
            "EPOCH score 41: 0.08295234867924284\n",
            "EPOCH score 42: 0.08647783527874205\n",
            "EPOCH score 43: 0.08716068357134972\n",
            "EPOCH score 44: 0.08546782511194435\n",
            "EPOCH score 45: 0.09104189640025662\n",
            "EPOCH score 46: 0.0916058080200986\n",
            "EPOCH score 47: 0.09487856490338815\n",
            "EPOCH score 48: 0.09923263754744104\n",
            "EPOCH score 49: 0.09825997394533864\n",
            "EPOCH score 50: 0.09860564147931992\n"
          ]
        }
      ]
    }
  ],
  "metadata": {
    "kernelspec": {
      "display_name": "Python 3 (ipykernel)",
      "language": "python",
      "name": "python3"
    },
    "language_info": {
      "codemirror_mode": {
        "name": "ipython",
        "version": 3
      },
      "file_extension": ".py",
      "mimetype": "text/x-python",
      "name": "python",
      "nbconvert_exporter": "python",
      "pygments_lexer": "ipython3",
      "version": "3.9.12"
    },
    "colab": {
      "provenance": [],
      "include_colab_link": true
    },
    "accelerator": "GPU",
    "gpuClass": "standard"
  },
  "nbformat": 4,
  "nbformat_minor": 5
}