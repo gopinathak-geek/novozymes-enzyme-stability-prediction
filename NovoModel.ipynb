{
  "cells": [
    {
      "cell_type": "markdown",
      "metadata": {
        "id": "view-in-github",
        "colab_type": "text"
      },
      "source": [
        "<a href=\"https://colab.research.google.com/github/gopinathak-geek/novozymes-enzyme-stability-prediction/blob/main/NovoModel.ipynb\" target=\"_parent\"><img src=\"https://colab.research.google.com/assets/colab-badge.svg\" alt=\"Open In Colab\"/></a>"
      ]
    },
    {
      "cell_type": "code",
      "execution_count": 1,
      "id": "c433f364",
      "metadata": {
        "id": "c433f364",
        "colab": {
          "base_uri": "https://localhost:8080/"
        },
        "outputId": "ff276260-0dfc-4d40-c1f0-fb91f28292cb"
      },
      "outputs": [
        {
          "output_type": "stream",
          "name": "stdout",
          "text": [
            "3.7.15 (default, Oct 12 2022, 19:14:55) \n",
            "[GCC 7.5.0]\n"
          ]
        }
      ],
      "source": [
        "import sys\n",
        "print (sys.version)\n"
      ]
    },
    {
      "cell_type": "code",
      "source": [
        "import torch\n",
        "import numpy as np\n",
        "import random\n",
        "from torch.utils.data import Dataset, DataLoader\n",
        "import torch.nn as nn\n",
        "import torch.nn.functional as F\n",
        "import torch.optim as optim\n",
        "from scipy import stats\n",
        "import pandas as pd\n",
        "import torchvision.transforms as T\n"
      ],
      "metadata": {
        "id": "4s1FXTYEKB_5"
      },
      "id": "4s1FXTYEKB_5",
      "execution_count": 2,
      "outputs": []
    },
    {
      "cell_type": "code",
      "source": [
        "def getMolecularWeight(aminoacid):\n",
        "  if aminoacid == \"A\": return 89\n",
        "  elif aminoacid == \"R\": return 174\n",
        "  elif aminoacid == \"N\": return 132\n",
        "  elif aminoacid == \"D\": return 133\n",
        "  elif aminoacid == \"B\": return 133\n",
        "  elif aminoacid == \"C\": return 121\n",
        "  elif aminoacid == \"Q\": return 146\n",
        "  elif aminoacid == \"E\": return 147\n",
        "  elif aminoacid == \"Z\": return 147\n",
        "  elif aminoacid == \"G\": return 75\n",
        "  elif aminoacid == \"H\": return 155\n",
        "  elif aminoacid == \"I\": return 131\n",
        "  elif aminoacid == \"L\": return 131\n",
        "  elif aminoacid == \"K\": return 146\n",
        "  elif aminoacid == \"M\": return 149\n",
        "  elif aminoacid == \"F\": return 165\n",
        "  elif aminoacid == \"P\": return 115\n",
        "  elif aminoacid == \"S\": return 105\n",
        "  elif aminoacid == \"T\": return 119\n",
        "  elif aminoacid == \"W\": return 204\n",
        "  elif aminoacid == \"Y\": return 181\n",
        "  elif aminoacid == \"V\": return 117\n",
        "  else: return 0"
      ],
      "metadata": {
        "id": "8FGtnDup0hih"
      },
      "id": "8FGtnDup0hih",
      "execution_count": 3,
      "outputs": []
    },
    {
      "cell_type": "code",
      "execution_count": 4,
      "id": "789a71a0",
      "metadata": {
        "id": "789a71a0"
      },
      "outputs": [],
      "source": [
        "train_csv = \"https://raw.githubusercontent.com/gopinathak-geek/novozymes-enzyme-stability-prediction/main/data/train.csv\"\n",
        "updated_train_csv = \"https://raw.githubusercontent.com/gopinathak-geek/novozymes-enzyme-stability-prediction/main/data/train_updates_20220929.csv\"\n",
        "test_csv = \"https://raw.githubusercontent.com/gopinathak-geek/novozymes-enzyme-stability-prediction/main/data/test.csv\"\n",
        "\n",
        "training_data = pd.read_csv(train_csv)\n",
        "updated_training_data = pd.read_csv(updated_train_csv)\n",
        "testing_data = pd.read_csv(test_csv)"
      ]
    },
    {
      "cell_type": "code",
      "source": [
        "training_data.head()"
      ],
      "metadata": {
        "colab": {
          "base_uri": "https://localhost:8080/",
          "height": 206
        },
        "id": "KDc_FLSBvfaV",
        "outputId": "dedfe577-21aa-4c07-dee4-008ab9808f65"
      },
      "id": "KDc_FLSBvfaV",
      "execution_count": 5,
      "outputs": [
        {
          "output_type": "execute_result",
          "data": {
            "text/plain": [
              "   seq_id                                   protein_sequence   pH  \\\n",
              "0       0  AAAAKAAALALLGEAPEVVDIWLPAGWRQPFRVFRLERKGDGVLVG...  7.0   \n",
              "1       1  AAADGEPLHNEEERAGAGQVGRSLPQESEEQRTGSRPRRRRDLGSR...  7.0   \n",
              "2       2  AAAFSTPRATSYRILSSAGSGSTRADAPQVRRLHTTRDLLAKDYYA...  7.0   \n",
              "3       3  AAASGLRTAIPAQPLRHLLQPAPRPCLRPFGLLSVRAGSARRSGLL...  7.0   \n",
              "4       4  AAATKSGPRRQSQGASVRTFTPFYFLVEPVDTLSVRGSSVILNCSA...  7.0   \n",
              "\n",
              "                         data_source    tm  \n",
              "0  doi.org/10.1038/s41592-020-0801-4  75.7  \n",
              "1  doi.org/10.1038/s41592-020-0801-4  50.5  \n",
              "2  doi.org/10.1038/s41592-020-0801-4  40.5  \n",
              "3  doi.org/10.1038/s41592-020-0801-4  47.2  \n",
              "4  doi.org/10.1038/s41592-020-0801-4  49.5  "
            ],
            "text/html": [
              "\n",
              "  <div id=\"df-135b43c0-9d5c-4cf4-9b4f-3e7b04e600ba\">\n",
              "    <div class=\"colab-df-container\">\n",
              "      <div>\n",
              "<style scoped>\n",
              "    .dataframe tbody tr th:only-of-type {\n",
              "        vertical-align: middle;\n",
              "    }\n",
              "\n",
              "    .dataframe tbody tr th {\n",
              "        vertical-align: top;\n",
              "    }\n",
              "\n",
              "    .dataframe thead th {\n",
              "        text-align: right;\n",
              "    }\n",
              "</style>\n",
              "<table border=\"1\" class=\"dataframe\">\n",
              "  <thead>\n",
              "    <tr style=\"text-align: right;\">\n",
              "      <th></th>\n",
              "      <th>seq_id</th>\n",
              "      <th>protein_sequence</th>\n",
              "      <th>pH</th>\n",
              "      <th>data_source</th>\n",
              "      <th>tm</th>\n",
              "    </tr>\n",
              "  </thead>\n",
              "  <tbody>\n",
              "    <tr>\n",
              "      <th>0</th>\n",
              "      <td>0</td>\n",
              "      <td>AAAAKAAALALLGEAPEVVDIWLPAGWRQPFRVFRLERKGDGVLVG...</td>\n",
              "      <td>7.0</td>\n",
              "      <td>doi.org/10.1038/s41592-020-0801-4</td>\n",
              "      <td>75.7</td>\n",
              "    </tr>\n",
              "    <tr>\n",
              "      <th>1</th>\n",
              "      <td>1</td>\n",
              "      <td>AAADGEPLHNEEERAGAGQVGRSLPQESEEQRTGSRPRRRRDLGSR...</td>\n",
              "      <td>7.0</td>\n",
              "      <td>doi.org/10.1038/s41592-020-0801-4</td>\n",
              "      <td>50.5</td>\n",
              "    </tr>\n",
              "    <tr>\n",
              "      <th>2</th>\n",
              "      <td>2</td>\n",
              "      <td>AAAFSTPRATSYRILSSAGSGSTRADAPQVRRLHTTRDLLAKDYYA...</td>\n",
              "      <td>7.0</td>\n",
              "      <td>doi.org/10.1038/s41592-020-0801-4</td>\n",
              "      <td>40.5</td>\n",
              "    </tr>\n",
              "    <tr>\n",
              "      <th>3</th>\n",
              "      <td>3</td>\n",
              "      <td>AAASGLRTAIPAQPLRHLLQPAPRPCLRPFGLLSVRAGSARRSGLL...</td>\n",
              "      <td>7.0</td>\n",
              "      <td>doi.org/10.1038/s41592-020-0801-4</td>\n",
              "      <td>47.2</td>\n",
              "    </tr>\n",
              "    <tr>\n",
              "      <th>4</th>\n",
              "      <td>4</td>\n",
              "      <td>AAATKSGPRRQSQGASVRTFTPFYFLVEPVDTLSVRGSSVILNCSA...</td>\n",
              "      <td>7.0</td>\n",
              "      <td>doi.org/10.1038/s41592-020-0801-4</td>\n",
              "      <td>49.5</td>\n",
              "    </tr>\n",
              "  </tbody>\n",
              "</table>\n",
              "</div>\n",
              "      <button class=\"colab-df-convert\" onclick=\"convertToInteractive('df-135b43c0-9d5c-4cf4-9b4f-3e7b04e600ba')\"\n",
              "              title=\"Convert this dataframe to an interactive table.\"\n",
              "              style=\"display:none;\">\n",
              "        \n",
              "  <svg xmlns=\"http://www.w3.org/2000/svg\" height=\"24px\"viewBox=\"0 0 24 24\"\n",
              "       width=\"24px\">\n",
              "    <path d=\"M0 0h24v24H0V0z\" fill=\"none\"/>\n",
              "    <path d=\"M18.56 5.44l.94 2.06.94-2.06 2.06-.94-2.06-.94-.94-2.06-.94 2.06-2.06.94zm-11 1L8.5 8.5l.94-2.06 2.06-.94-2.06-.94L8.5 2.5l-.94 2.06-2.06.94zm10 10l.94 2.06.94-2.06 2.06-.94-2.06-.94-.94-2.06-.94 2.06-2.06.94z\"/><path d=\"M17.41 7.96l-1.37-1.37c-.4-.4-.92-.59-1.43-.59-.52 0-1.04.2-1.43.59L10.3 9.45l-7.72 7.72c-.78.78-.78 2.05 0 2.83L4 21.41c.39.39.9.59 1.41.59.51 0 1.02-.2 1.41-.59l7.78-7.78 2.81-2.81c.8-.78.8-2.07 0-2.86zM5.41 20L4 18.59l7.72-7.72 1.47 1.35L5.41 20z\"/>\n",
              "  </svg>\n",
              "      </button>\n",
              "      \n",
              "  <style>\n",
              "    .colab-df-container {\n",
              "      display:flex;\n",
              "      flex-wrap:wrap;\n",
              "      gap: 12px;\n",
              "    }\n",
              "\n",
              "    .colab-df-convert {\n",
              "      background-color: #E8F0FE;\n",
              "      border: none;\n",
              "      border-radius: 50%;\n",
              "      cursor: pointer;\n",
              "      display: none;\n",
              "      fill: #1967D2;\n",
              "      height: 32px;\n",
              "      padding: 0 0 0 0;\n",
              "      width: 32px;\n",
              "    }\n",
              "\n",
              "    .colab-df-convert:hover {\n",
              "      background-color: #E2EBFA;\n",
              "      box-shadow: 0px 1px 2px rgba(60, 64, 67, 0.3), 0px 1px 3px 1px rgba(60, 64, 67, 0.15);\n",
              "      fill: #174EA6;\n",
              "    }\n",
              "\n",
              "    [theme=dark] .colab-df-convert {\n",
              "      background-color: #3B4455;\n",
              "      fill: #D2E3FC;\n",
              "    }\n",
              "\n",
              "    [theme=dark] .colab-df-convert:hover {\n",
              "      background-color: #434B5C;\n",
              "      box-shadow: 0px 1px 3px 1px rgba(0, 0, 0, 0.15);\n",
              "      filter: drop-shadow(0px 1px 2px rgba(0, 0, 0, 0.3));\n",
              "      fill: #FFFFFF;\n",
              "    }\n",
              "  </style>\n",
              "\n",
              "      <script>\n",
              "        const buttonEl =\n",
              "          document.querySelector('#df-135b43c0-9d5c-4cf4-9b4f-3e7b04e600ba button.colab-df-convert');\n",
              "        buttonEl.style.display =\n",
              "          google.colab.kernel.accessAllowed ? 'block' : 'none';\n",
              "\n",
              "        async function convertToInteractive(key) {\n",
              "          const element = document.querySelector('#df-135b43c0-9d5c-4cf4-9b4f-3e7b04e600ba');\n",
              "          const dataTable =\n",
              "            await google.colab.kernel.invokeFunction('convertToInteractive',\n",
              "                                                     [key], {});\n",
              "          if (!dataTable) return;\n",
              "\n",
              "          const docLinkHtml = 'Like what you see? Visit the ' +\n",
              "            '<a target=\"_blank\" href=https://colab.research.google.com/notebooks/data_table.ipynb>data table notebook</a>'\n",
              "            + ' to learn more about interactive tables.';\n",
              "          element.innerHTML = '';\n",
              "          dataTable['output_type'] = 'display_data';\n",
              "          await google.colab.output.renderOutput(dataTable, element);\n",
              "          const docLink = document.createElement('div');\n",
              "          docLink.innerHTML = docLinkHtml;\n",
              "          element.appendChild(docLink);\n",
              "        }\n",
              "      </script>\n",
              "    </div>\n",
              "  </div>\n",
              "  "
            ]
          },
          "metadata": {},
          "execution_count": 5
        }
      ]
    },
    {
      "cell_type": "code",
      "source": [
        "training_data.info(verbose=True)"
      ],
      "metadata": {
        "id": "2nydMIu5smhg",
        "outputId": "70bfbaaa-551e-4173-cff7-8cf4ec3a1121",
        "colab": {
          "base_uri": "https://localhost:8080/"
        }
      },
      "id": "2nydMIu5smhg",
      "execution_count": 6,
      "outputs": [
        {
          "output_type": "stream",
          "name": "stdout",
          "text": [
            "<class 'pandas.core.frame.DataFrame'>\n",
            "RangeIndex: 31390 entries, 0 to 31389\n",
            "Data columns (total 5 columns):\n",
            " #   Column            Non-Null Count  Dtype  \n",
            "---  ------            --------------  -----  \n",
            " 0   seq_id            31390 non-null  int64  \n",
            " 1   protein_sequence  31390 non-null  object \n",
            " 2   pH                31104 non-null  float64\n",
            " 3   data_source       28043 non-null  object \n",
            " 4   tm                31390 non-null  float64\n",
            "dtypes: float64(2), int64(1), object(2)\n",
            "memory usage: 1.2+ MB\n"
          ]
        }
      ]
    },
    {
      "cell_type": "code",
      "source": [
        "training_data.isnull().any(axis=1).sum()"
      ],
      "metadata": {
        "id": "00FIaCUusmbe",
        "outputId": "0585af09-3049-4694-ef86-4b0a2e16fcb2",
        "colab": {
          "base_uri": "https://localhost:8080/"
        }
      },
      "id": "00FIaCUusmbe",
      "execution_count": 7,
      "outputs": [
        {
          "output_type": "execute_result",
          "data": {
            "text/plain": [
              "3621"
            ]
          },
          "metadata": {},
          "execution_count": 7
        }
      ]
    },
    {
      "cell_type": "code",
      "source": [
        "training_data.isnull().any(axis=1).sum()/len(training_data) * 100"
      ],
      "metadata": {
        "id": "h7rCMJHLsmW4",
        "outputId": "d6095567-bffb-40b3-de3a-b0f28688b348",
        "colab": {
          "base_uri": "https://localhost:8080/"
        }
      },
      "id": "h7rCMJHLsmW4",
      "execution_count": 8,
      "outputs": [
        {
          "output_type": "execute_result",
          "data": {
            "text/plain": [
              "11.535520866517999"
            ]
          },
          "metadata": {},
          "execution_count": 8
        }
      ]
    },
    {
      "cell_type": "code",
      "source": [
        "training_data.nunique()"
      ],
      "metadata": {
        "id": "e9cbRPelsmRo",
        "outputId": "124c61b3-8c71-4721-ac16-33f8a772273e",
        "colab": {
          "base_uri": "https://localhost:8080/"
        }
      },
      "id": "e9cbRPelsmRo",
      "execution_count": 9,
      "outputs": [
        {
          "output_type": "execute_result",
          "data": {
            "text/plain": [
              "seq_id              31390\n",
              "protein_sequence    28981\n",
              "pH                    115\n",
              "data_source           324\n",
              "tm                    770\n",
              "dtype: int64"
            ]
          },
          "metadata": {},
          "execution_count": 9
        }
      ]
    },
    {
      "cell_type": "code",
      "source": [
        "dropped_training_data = training_data.dropna()\n",
        "dropped_training_data.isnull().any(axis=1).sum()"
      ],
      "metadata": {
        "id": "_vrc366jsmG7",
        "outputId": "e1766a19-1432-4c92-f8b6-2f5532c8ab7a",
        "colab": {
          "base_uri": "https://localhost:8080/"
        }
      },
      "id": "_vrc366jsmG7",
      "execution_count": 10,
      "outputs": [
        {
          "output_type": "execute_result",
          "data": {
            "text/plain": [
              "0"
            ]
          },
          "metadata": {},
          "execution_count": 10
        }
      ]
    },
    {
      "cell_type": "code",
      "source": [
        "def proteinSequenceToAmioAcidMolecularWeightWithPh(data):\n",
        "  amionAcidSequence = []\n",
        "  img = []\n",
        "  label = []\n",
        "  for index, row in data.iterrows():\n",
        "    ph = row['pH']\n",
        "    tm = row['tm']\n",
        "    molecularWeightOfAminoAcidInSequence = []\n",
        "    pHofProteinSequence = []\n",
        "    for aminoacid in (row['protein_sequence']):\n",
        "      molecularWeight = getMolecularWeight(aminoacid)\n",
        "      molecularWeightOfAminoAcidInSequence.append(molecularWeight/110)\n",
        "      pHofProteinSequence.append(ph)\n",
        "    #a = torch.FloatTensor(np.array([molecularWeightOfAminoAcidInSequence,pHofProteinSequence]))\n",
        "    #a = a[None, :]\n",
        "    #a = preprocess(np.array([molecularWeightOfAminoAcidInSequence,pHofProteinSequence]))\n",
        "    a = np.array([molecularWeightOfAminoAcidInSequence,pHofProteinSequence])\n",
        "    a = a[None, :]\n",
        "    img.append(a)\n",
        "    label.append(tm)\n",
        "    #amionAcidSequence.append((a, tm))\n",
        "    #break\n",
        "  return [img, label]"
      ],
      "metadata": {
        "id": "fNcUi7YViuDN"
      },
      "id": "fNcUi7YViuDN",
      "execution_count": 11,
      "outputs": []
    },
    {
      "cell_type": "code",
      "source": [
        "img, label = proteinSequenceToAmioAcidMolecularWeightWithPh(dropped_training_data)"
      ],
      "metadata": {
        "id": "kSiRJhI10q4K"
      },
      "id": "kSiRJhI10q4K",
      "execution_count": 12,
      "outputs": []
    },
    {
      "cell_type": "code",
      "source": [
        "import torchvision.transforms as T\n",
        "from PIL import Image\n",
        "\n",
        "preprocess = T.Compose([\n",
        "   T.Resize((2,10)),\n",
        "])\n",
        "\n",
        "def change_shape(data):\n",
        "    torch_img = []\n",
        "    for im in (data):\n",
        "        im = torch.FloatTensor(im)\n",
        "        #transform = T.ToPILImage()\n",
        "        #img = transform(im)\n",
        "        x = preprocess(im)\n",
        "        x = x.cpu().detach().numpy()\n",
        "        torch_img.append(x)\n",
        "    return torch_img"
      ],
      "metadata": {
        "id": "qm9aJqhKqvcB"
      },
      "id": "qm9aJqhKqvcB",
      "execution_count": 13,
      "outputs": []
    },
    {
      "cell_type": "code",
      "source": [
        "img = change_shape(img)"
      ],
      "metadata": {
        "id": "Giam_-nbtRdI"
      },
      "id": "Giam_-nbtRdI",
      "execution_count": 14,
      "outputs": []
    },
    {
      "cell_type": "code",
      "source": [
        "class TrainData(Dataset):\n",
        "    \n",
        "    def __init__(self, X_data, y_data):\n",
        "        self.X_data = X_data\n",
        "        self.y_data = y_data\n",
        "        \n",
        "    def __getitem__(self, index):\n",
        "        return self.X_data[index], self.y_data[index]\n",
        "        \n",
        "    def __len__ (self):\n",
        "        return len(self.X_data)"
      ],
      "metadata": {
        "id": "x3HsMHGetXdu"
      },
      "id": "x3HsMHGetXdu",
      "execution_count": 15,
      "outputs": []
    },
    {
      "cell_type": "code",
      "source": [
        "train_data = TrainData(torch.FloatTensor(img), torch.FloatTensor(label))"
      ],
      "metadata": {
        "id": "VJJiBNjStcik",
        "outputId": "22aa5312-785f-4a38-b6d3-47fc0b2ad714",
        "colab": {
          "base_uri": "https://localhost:8080/"
        }
      },
      "id": "VJJiBNjStcik",
      "execution_count": 16,
      "outputs": [
        {
          "output_type": "stream",
          "name": "stderr",
          "text": [
            "/usr/local/lib/python3.7/dist-packages/ipykernel_launcher.py:1: UserWarning: Creating a tensor from a list of numpy.ndarrays is extremely slow. Please consider converting the list to a single numpy.ndarray with numpy.array() before converting to a tensor. (Triggered internally at  ../torch/csrc/utils/tensor_new.cpp:201.)\n",
            "  \"\"\"Entry point for launching an IPython kernel.\n"
          ]
        }
      ]
    },
    {
      "cell_type": "code",
      "source": [
        "BATCH_SIZE = 128\n",
        "train_loader = DataLoader(dataset=train_data, batch_size=BATCH_SIZE, shuffle=True)"
      ],
      "metadata": {
        "id": "1YsmqiJ1tg6F"
      },
      "id": "1YsmqiJ1tg6F",
      "execution_count": 17,
      "outputs": []
    },
    {
      "cell_type": "code",
      "source": [
        "class NovoNet(nn.Module):\n",
        "    def __init__(self, name=None):\n",
        "        super(NovoNet, self).__init__()\n",
        "        if name:\n",
        "            self.name = name\n",
        "        self.conv1 = nn.Conv2d(1, 10, 2) \n",
        "        #self.pool = nn.MaxPool2d((3, 2), stride=(2, 2))\n",
        "        self.fc1 = nn.Linear(10 * 9 * 1, 120)\n",
        "        self.fc2 = nn.Linear(120, 84)\n",
        "        self.fc3 = nn.Linear(84, 1)\n",
        "        \n",
        "        # compute the total number of parameters\n",
        "        total_params = sum(p.numel() for p in self.parameters() if p.requires_grad)\n",
        "        print(self.name + ': total params:', total_params)\n",
        "\n",
        "    def forward(self, x):\n",
        "        x = F.relu(self.conv1(x))\n",
        "        x = x.view(-1, 9 * 1 * 10)\n",
        "        x = F.relu(self.fc1(x))\n",
        "        x = F.relu(self.fc2(x))\n",
        "        x = self.fc3(x)\n",
        "        return x"
      ],
      "metadata": {
        "id": "MfxUh2yKY2zA"
      },
      "id": "MfxUh2yKY2zA",
      "execution_count": 18,
      "outputs": []
    },
    {
      "cell_type": "code",
      "source": [
        "device = torch.device(\"cuda:0\" if torch.cuda.is_available() else \"cpu\")\n",
        "print(device)"
      ],
      "metadata": {
        "id": "PVIkJdWGfRwN",
        "outputId": "6cad0ee2-4d94-4363-9d09-1b395c17f94b",
        "colab": {
          "base_uri": "https://localhost:8080/"
        }
      },
      "id": "PVIkJdWGfRwN",
      "execution_count": 19,
      "outputs": [
        {
          "output_type": "stream",
          "name": "stdout",
          "text": [
            "cuda:0\n"
          ]
        }
      ]
    },
    {
      "cell_type": "code",
      "source": [
        "net = NovoNet(name='Novonet')\n",
        "net.to(device)"
      ],
      "metadata": {
        "id": "19skUICLfi4h",
        "outputId": "5a99730c-8617-4ff7-8cf4-c9ab2f4b8d82",
        "colab": {
          "base_uri": "https://localhost:8080/"
        }
      },
      "id": "19skUICLfi4h",
      "execution_count": 20,
      "outputs": [
        {
          "output_type": "stream",
          "name": "stdout",
          "text": [
            "Novonet: total params: 21219\n"
          ]
        },
        {
          "output_type": "execute_result",
          "data": {
            "text/plain": [
              "NovoNet(\n",
              "  (conv1): Conv2d(1, 10, kernel_size=(2, 2), stride=(1, 1))\n",
              "  (fc1): Linear(in_features=90, out_features=120, bias=True)\n",
              "  (fc2): Linear(in_features=120, out_features=84, bias=True)\n",
              "  (fc3): Linear(in_features=84, out_features=1, bias=True)\n",
              ")"
            ]
          },
          "metadata": {},
          "execution_count": 20
        }
      ]
    },
    {
      "cell_type": "code",
      "source": [
        "LEARNING_RATE = 0.001\n",
        "criterion = nn.MSELoss()\n",
        "optimizer = torch.optim.Adam(net.parameters(), lr=LEARNING_RATE)"
      ],
      "metadata": {
        "id": "LjG-TnyJfz3t"
      },
      "id": "LjG-TnyJfz3t",
      "execution_count": 21,
      "outputs": []
    },
    {
      "cell_type": "code",
      "source": [
        "EPOCHS = 100\n",
        "for epoch in range(EPOCHS):\n",
        "    net.train()\n",
        "    score = []\n",
        "    for img, label in train_loader:\n",
        "        img, label = img.to(device), label.to(device)\n",
        "        label = label.unsqueeze(1)\n",
        "    \n",
        "        #==========Forward pass===============\n",
        "        preds = net(img)\n",
        "        loss = criterion(preds, label)\n",
        "        #==========backward pass==============\n",
        "\n",
        "        optimizer.zero_grad()\n",
        "        loss.backward()\n",
        "        optimizer.step()\n",
        "\n",
        "\n",
        "        a = stats.spearmanr(preds.detach().cpu().numpy(), label.cpu().numpy())\n",
        "        score.append(a.correlation)\n",
        "    print(f'EPOCH score {epoch+1}: {np.mean(score)}')"
      ],
      "metadata": {
        "id": "HNVSaAcagZJl",
        "outputId": "bbfed536-20b4-4e70-bd24-adffe03dc747",
        "colab": {
          "base_uri": "https://localhost:8080/"
        }
      },
      "id": "HNVSaAcagZJl",
      "execution_count": 22,
      "outputs": [
        {
          "output_type": "stream",
          "name": "stdout",
          "text": [
            "EPOCH score 1: 0.001701169922371089\n",
            "EPOCH score 2: 0.005765528791183634\n",
            "EPOCH score 3: 0.019710662297978788\n",
            "EPOCH score 4: 0.02003169697966343\n",
            "EPOCH score 5: 0.023740069271599464\n",
            "EPOCH score 6: 0.026977081662219987\n",
            "EPOCH score 7: 0.02950867573489345\n",
            "EPOCH score 8: 0.03361784003518782\n",
            "EPOCH score 9: 0.03699029638536945\n",
            "EPOCH score 10: 0.04012368497623699\n",
            "EPOCH score 11: 0.046802716096730076\n",
            "EPOCH score 12: 0.04754613618319898\n",
            "EPOCH score 13: 0.049775470900098914\n",
            "EPOCH score 14: 0.05199356045443541\n",
            "EPOCH score 15: 0.058459032115433594\n",
            "EPOCH score 16: 0.05878388878004841\n",
            "EPOCH score 17: 0.06472511060701397\n",
            "EPOCH score 18: 0.06309141055034966\n",
            "EPOCH score 19: 0.06437928962389779\n",
            "EPOCH score 20: 0.06964925927169295\n",
            "EPOCH score 21: 0.0706873453824744\n",
            "EPOCH score 22: 0.06641903607819186\n",
            "EPOCH score 23: 0.0719683001542036\n",
            "EPOCH score 24: 0.07226649946852522\n",
            "EPOCH score 25: 0.07259359488555911\n",
            "EPOCH score 26: 0.07452674320541611\n",
            "EPOCH score 27: 0.07566359104335148\n",
            "EPOCH score 28: 0.07630365704219888\n",
            "EPOCH score 29: 0.07664908654672559\n",
            "EPOCH score 30: 0.07723134270636683\n",
            "EPOCH score 31: 0.07820022254225036\n",
            "EPOCH score 32: 0.08277171197388472\n",
            "EPOCH score 33: 0.08203005319615407\n",
            "EPOCH score 34: 0.08344745012230897\n",
            "EPOCH score 35: 0.08081990735742783\n",
            "EPOCH score 36: 0.08428646589440687\n",
            "EPOCH score 37: 0.08718079064021486\n",
            "EPOCH score 38: 0.09097095145225573\n",
            "EPOCH score 39: 0.09373689617315896\n",
            "EPOCH score 40: 0.09449276733082446\n",
            "EPOCH score 41: 0.09954215886461074\n",
            "EPOCH score 42: 0.10473971550308854\n",
            "EPOCH score 43: 0.11187406151784526\n",
            "EPOCH score 44: 0.1181899445625723\n",
            "EPOCH score 45: 0.12602550582008812\n",
            "EPOCH score 46: 0.13013445829825646\n",
            "EPOCH score 47: 0.13185136156304117\n",
            "EPOCH score 48: 0.1355130933480383\n",
            "EPOCH score 49: 0.13815766408907024\n",
            "EPOCH score 50: 0.13995056764964814\n",
            "EPOCH score 51: 0.13982984186914743\n",
            "EPOCH score 52: 0.14033627228734483\n",
            "EPOCH score 53: 0.14036135668740735\n",
            "EPOCH score 54: 0.14302554251535557\n",
            "EPOCH score 55: 0.14233394330496796\n",
            "EPOCH score 56: 0.1423736990042131\n",
            "EPOCH score 57: 0.14615570594688834\n",
            "EPOCH score 58: 0.1470757365804521\n",
            "EPOCH score 59: 0.14852530146978277\n",
            "EPOCH score 60: 0.14746220259417064\n",
            "EPOCH score 61: 0.1477583042716503\n",
            "EPOCH score 62: 0.15075977401694918\n",
            "EPOCH score 63: 0.15262057385429856\n",
            "EPOCH score 64: 0.150709955607675\n",
            "EPOCH score 65: 0.1496924553108103\n",
            "EPOCH score 66: 0.15277121328504578\n",
            "EPOCH score 67: 0.15165405558029652\n",
            "EPOCH score 68: 0.15302225993207813\n",
            "EPOCH score 69: 0.1511186277483492\n",
            "EPOCH score 70: 0.14900361553639374\n",
            "EPOCH score 71: 0.15330717393349455\n",
            "EPOCH score 72: 0.15514005691955857\n",
            "EPOCH score 73: 0.15417969477597515\n",
            "EPOCH score 74: 0.15589109553172512\n",
            "EPOCH score 75: 0.15359595182619334\n",
            "EPOCH score 76: 0.15682914980506832\n",
            "EPOCH score 77: 0.15285873350587856\n",
            "EPOCH score 78: 0.1586346812620618\n",
            "EPOCH score 79: 0.1566288065721095\n",
            "EPOCH score 80: 0.15796925484576058\n",
            "EPOCH score 81: 0.15615636178346157\n",
            "EPOCH score 82: 0.1606059502316217\n",
            "EPOCH score 83: 0.15715510612392558\n",
            "EPOCH score 84: 0.1581955140236491\n",
            "EPOCH score 85: 0.15786621188886213\n",
            "EPOCH score 86: 0.16003886829491057\n",
            "EPOCH score 87: 0.16021082447225257\n",
            "EPOCH score 88: 0.15861367179198563\n",
            "EPOCH score 89: 0.16185130472599382\n",
            "EPOCH score 90: 0.16125966818507526\n",
            "EPOCH score 91: 0.1617774630369789\n",
            "EPOCH score 92: 0.1612772422267477\n",
            "EPOCH score 93: 0.15958345123676193\n",
            "EPOCH score 94: 0.16311262256634412\n",
            "EPOCH score 95: 0.16221941421816813\n",
            "EPOCH score 96: 0.16173367115706577\n",
            "EPOCH score 97: 0.16083779008601873\n",
            "EPOCH score 98: 0.16044129160232096\n",
            "EPOCH score 99: 0.16457922321406177\n",
            "EPOCH score 100: 0.16509024911626802\n"
          ]
        }
      ]
    }
  ],
  "metadata": {
    "kernelspec": {
      "display_name": "Python 3 (ipykernel)",
      "language": "python",
      "name": "python3"
    },
    "language_info": {
      "codemirror_mode": {
        "name": "ipython",
        "version": 3
      },
      "file_extension": ".py",
      "mimetype": "text/x-python",
      "name": "python",
      "nbconvert_exporter": "python",
      "pygments_lexer": "ipython3",
      "version": "3.9.12"
    },
    "colab": {
      "provenance": [],
      "include_colab_link": true
    },
    "accelerator": "GPU",
    "gpuClass": "standard"
  },
  "nbformat": 4,
  "nbformat_minor": 5
}